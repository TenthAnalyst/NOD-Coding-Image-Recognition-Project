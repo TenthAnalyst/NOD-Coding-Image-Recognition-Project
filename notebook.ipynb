{
 "cells": [
  {
   "attachments": {},
   "cell_type": "markdown",
   "metadata": {},
   "source": [
    "# Data Preparation"
   ]
  },
  {
   "attachments": {},
   "cell_type": "markdown",
   "metadata": {},
   "source": [
    "## Libraries"
   ]
  },
  {
   "cell_type": "code",
   "execution_count": 93,
   "metadata": {},
   "outputs": [],
   "source": [
    "import pandas as pd\n",
    "import matplotlib.pyplot as plt"
   ]
  },
  {
   "attachments": {},
   "cell_type": "markdown",
   "metadata": {},
   "source": [
    "## Data Import"
   ]
  },
  {
   "cell_type": "code",
   "execution_count": 94,
   "metadata": {},
   "outputs": [
    {
     "name": "stderr",
     "output_type": "stream",
     "text": [
      "c:\\Users\\james\\AppData\\Local\\Programs\\Python\\Python311\\Lib\\site-packages\\sklearn\\datasets\\_openml.py:968: FutureWarning: The default value of `parser` will change from `'liac-arff'` to `'auto'` in 1.4. You can set `parser='auto'` to silence this warning. Therefore, an `ImportError` will be raised from 1.4 if the dataset is dense and pandas is not installed. Note that the pandas parser may return different data types. See the Notes Section in fetch_openml's API doc for details.\n",
      "  warn(\n"
     ]
    },
    {
     "data": {
      "text/html": [
       "<div>\n",
       "<style scoped>\n",
       "    .dataframe tbody tr th:only-of-type {\n",
       "        vertical-align: middle;\n",
       "    }\n",
       "\n",
       "    .dataframe tbody tr th {\n",
       "        vertical-align: top;\n",
       "    }\n",
       "\n",
       "    .dataframe thead th {\n",
       "        text-align: right;\n",
       "    }\n",
       "</style>\n",
       "<table border=\"1\" class=\"dataframe\">\n",
       "  <thead>\n",
       "    <tr style=\"text-align: right;\">\n",
       "      <th></th>\n",
       "      <th>pixel1</th>\n",
       "      <th>pixel2</th>\n",
       "      <th>pixel3</th>\n",
       "      <th>pixel4</th>\n",
       "      <th>pixel5</th>\n",
       "      <th>pixel6</th>\n",
       "      <th>pixel7</th>\n",
       "      <th>pixel8</th>\n",
       "      <th>pixel9</th>\n",
       "      <th>pixel10</th>\n",
       "      <th>...</th>\n",
       "      <th>pixel776</th>\n",
       "      <th>pixel777</th>\n",
       "      <th>pixel778</th>\n",
       "      <th>pixel779</th>\n",
       "      <th>pixel780</th>\n",
       "      <th>pixel781</th>\n",
       "      <th>pixel782</th>\n",
       "      <th>pixel783</th>\n",
       "      <th>pixel784</th>\n",
       "      <th>class</th>\n",
       "    </tr>\n",
       "  </thead>\n",
       "  <tbody>\n",
       "    <tr>\n",
       "      <th>0</th>\n",
       "      <td>0.0</td>\n",
       "      <td>0.0</td>\n",
       "      <td>0.0</td>\n",
       "      <td>0.0</td>\n",
       "      <td>0.0</td>\n",
       "      <td>0.0</td>\n",
       "      <td>0.0</td>\n",
       "      <td>0.0</td>\n",
       "      <td>0.0</td>\n",
       "      <td>0.0</td>\n",
       "      <td>...</td>\n",
       "      <td>0.0</td>\n",
       "      <td>0.0</td>\n",
       "      <td>0.0</td>\n",
       "      <td>0.0</td>\n",
       "      <td>0.0</td>\n",
       "      <td>0.0</td>\n",
       "      <td>0.0</td>\n",
       "      <td>0.0</td>\n",
       "      <td>0.0</td>\n",
       "      <td>9</td>\n",
       "    </tr>\n",
       "  </tbody>\n",
       "</table>\n",
       "<p>1 rows × 785 columns</p>\n",
       "</div>"
      ],
      "text/plain": [
       "   pixel1  pixel2  pixel3  pixel4  pixel5  pixel6  pixel7  pixel8  pixel9   \n",
       "0     0.0     0.0     0.0     0.0     0.0     0.0     0.0     0.0     0.0  \\\n",
       "\n",
       "   pixel10  ...  pixel776  pixel777  pixel778  pixel779  pixel780  pixel781   \n",
       "0      0.0  ...       0.0       0.0       0.0       0.0       0.0       0.0  \\\n",
       "\n",
       "   pixel782  pixel783  pixel784  class  \n",
       "0       0.0       0.0       0.0      9  \n",
       "\n",
       "[1 rows x 785 columns]"
      ]
     },
     "execution_count": 94,
     "metadata": {},
     "output_type": "execute_result"
    }
   ],
   "source": [
    "from sklearn.datasets import fetch_openml\n",
    "\n",
    "fmnist = fetch_openml(name='Fashion-MNIST')\n",
    "\n",
    "# Create a DataFrame from the dataset\n",
    "df = pd.concat([fmnist['data'], fmnist['target']], axis=1)\n",
    "\n",
    "df.head(1)"
   ]
  },
  {
   "cell_type": "code",
   "execution_count": 96,
   "metadata": {},
   "outputs": [
    {
     "data": {
      "text/plain": [
       "(70000, 785)"
      ]
     },
     "execution_count": 96,
     "metadata": {},
     "output_type": "execute_result"
    }
   ],
   "source": [
    "df.shape"
   ]
  },
  {
   "attachments": {},
   "cell_type": "markdown",
   "metadata": {},
   "source": [
    "## Convert Class Numbers to Labels"
   ]
  },
  {
   "cell_type": "code",
   "execution_count": 114,
   "metadata": {},
   "outputs": [
    {
     "data": {
      "text/html": [
       "<div>\n",
       "<style scoped>\n",
       "    .dataframe tbody tr th:only-of-type {\n",
       "        vertical-align: middle;\n",
       "    }\n",
       "\n",
       "    .dataframe tbody tr th {\n",
       "        vertical-align: top;\n",
       "    }\n",
       "\n",
       "    .dataframe thead th {\n",
       "        text-align: right;\n",
       "    }\n",
       "</style>\n",
       "<table border=\"1\" class=\"dataframe\">\n",
       "  <thead>\n",
       "    <tr style=\"text-align: right;\">\n",
       "      <th></th>\n",
       "      <th>pixel1</th>\n",
       "      <th>pixel2</th>\n",
       "      <th>pixel3</th>\n",
       "      <th>pixel4</th>\n",
       "      <th>pixel5</th>\n",
       "      <th>pixel6</th>\n",
       "      <th>pixel7</th>\n",
       "      <th>pixel8</th>\n",
       "      <th>pixel9</th>\n",
       "      <th>pixel10</th>\n",
       "      <th>...</th>\n",
       "      <th>pixel776</th>\n",
       "      <th>pixel777</th>\n",
       "      <th>pixel778</th>\n",
       "      <th>pixel779</th>\n",
       "      <th>pixel780</th>\n",
       "      <th>pixel781</th>\n",
       "      <th>pixel782</th>\n",
       "      <th>pixel783</th>\n",
       "      <th>pixel784</th>\n",
       "      <th>class</th>\n",
       "    </tr>\n",
       "  </thead>\n",
       "  <tbody>\n",
       "    <tr>\n",
       "      <th>0</th>\n",
       "      <td>0.0</td>\n",
       "      <td>0.0</td>\n",
       "      <td>0.0</td>\n",
       "      <td>0.0</td>\n",
       "      <td>0.0</td>\n",
       "      <td>0.0</td>\n",
       "      <td>0.0</td>\n",
       "      <td>0.0</td>\n",
       "      <td>0.0</td>\n",
       "      <td>0.0</td>\n",
       "      <td>...</td>\n",
       "      <td>0.0</td>\n",
       "      <td>0.0</td>\n",
       "      <td>0.0</td>\n",
       "      <td>0.0</td>\n",
       "      <td>0.0</td>\n",
       "      <td>0.0</td>\n",
       "      <td>0.0</td>\n",
       "      <td>0.0</td>\n",
       "      <td>0.0</td>\n",
       "      <td>Boot</td>\n",
       "    </tr>\n",
       "  </tbody>\n",
       "</table>\n",
       "<p>1 rows × 785 columns</p>\n",
       "</div>"
      ],
      "text/plain": [
       "   pixel1  pixel2  pixel3  pixel4  pixel5  pixel6  pixel7  pixel8  pixel9   \n",
       "0     0.0     0.0     0.0     0.0     0.0     0.0     0.0     0.0     0.0  \\\n",
       "\n",
       "   pixel10  ...  pixel776  pixel777  pixel778  pixel779  pixel780  pixel781   \n",
       "0      0.0  ...       0.0       0.0       0.0       0.0       0.0       0.0  \\\n",
       "\n",
       "   pixel782  pixel783  pixel784  class  \n",
       "0       0.0       0.0       0.0   Boot  \n",
       "\n",
       "[1 rows x 785 columns]"
      ]
     },
     "execution_count": 114,
     "metadata": {},
     "output_type": "execute_result"
    }
   ],
   "source": [
    "class_labels = {\n",
    "    0: \"T-shirt / Top\",\n",
    "    1: \"Trouser\",\n",
    "    2: \"Pullover\",\n",
    "    3: \"Dress\",\n",
    "    4: \"Coat\",\n",
    "    5: \"Sandal\",\n",
    "    6: \"Shirt\",\n",
    "    7: \"Sneaker\",\n",
    "    8: \"Bag\",\n",
    "    9: \"Boot\"\n",
    "}\n",
    "\n",
    "# Create a DataFrame from the dataset\n",
    "df = pd.concat([fmnist['data'], fmnist['target']], axis=1)\n",
    "\n",
    "# Convert the 'class' column to a regular column\n",
    "df['class'] = df['class'].astype(int)\n",
    "\n",
    "# Map the class labels to class names without getting NA values\n",
    "df['class'] = df['class'].map(class_labels)\n",
    "\n",
    "# Convert the 'class' column back to a categorical column\n",
    "df['class'] = df['class'].astype('category')\n",
    "\n",
    "df.head(1)"
   ]
  },
  {
   "attachments": {},
   "cell_type": "markdown",
   "metadata": {},
   "source": [
    "## Clothing Types"
   ]
  },
  {
   "cell_type": "code",
   "execution_count": 115,
   "metadata": {},
   "outputs": [
    {
     "data": {
      "text/plain": [
       "class\n",
       "Bag              7000\n",
       "Boot             7000\n",
       "Coat             7000\n",
       "Dress            7000\n",
       "Pullover         7000\n",
       "Sandal           7000\n",
       "Shirt            7000\n",
       "Sneaker          7000\n",
       "T-shirt / Top    7000\n",
       "Trouser          7000\n",
       "Name: count, dtype: int64"
      ]
     },
     "execution_count": 115,
     "metadata": {},
     "output_type": "execute_result"
    }
   ],
   "source": [
    "df['class'].value_counts()"
   ]
  },
  {
   "attachments": {},
   "cell_type": "markdown",
   "metadata": {},
   "source": [
    "## Image Maker Function"
   ]
  },
  {
   "cell_type": "code",
   "execution_count": 121,
   "metadata": {},
   "outputs": [],
   "source": [
    "import matplotlib.pyplot as plt\n",
    "\n",
    "def image_maker(index, df, class_=None):\n",
    "    if class_ is not None:\n",
    "        # Filter the DataFrame based on the provided class value\n",
    "        df = df[df['class'] == class_].reset_index(drop=True)\n",
    "    \n",
    "    # Check if the index is within the valid range of the filtered DataFrame\n",
    "    if index < 0 or index >= len(df):\n",
    "        print(\"Invalid index\")\n",
    "        return\n",
    "    \n",
    "    # Access the image data and corresponding label\n",
    "    image = df.iloc[index, :-1].astype(float)\n",
    "    label = df.iloc[index, -1]\n",
    "\n",
    "    # Reshape the image from a flattened array to its original shape (28x28 pixels)\n",
    "    image = image.values.reshape(28, 28)\n",
    "\n",
    "    # Get the category name from the DataFrame based on the label\n",
    "    category_name = df.iloc[index, -1]\n",
    "\n",
    "    # Display the image with the category name as the title\n",
    "    plt.imshow(image, cmap='gray')\n",
    "    plt.title(category_name)\n",
    "    plt.axis('off')\n",
    "    plt.show()"
   ]
  },
  {
   "cell_type": "code",
   "execution_count": 228,
   "metadata": {},
   "outputs": [
    {
     "data": {
      "text/plain": [
       "class\n",
       "Bag              7000\n",
       "Boot             7000\n",
       "Coat             7000\n",
       "Dress            7000\n",
       "Pullover         7000\n",
       "Sandal           7000\n",
       "Shirt            7000\n",
       "Sneaker          7000\n",
       "T-shirt / Top    7000\n",
       "Trouser          7000\n",
       "Name: count, dtype: int64"
      ]
     },
     "execution_count": 228,
     "metadata": {},
     "output_type": "execute_result"
    }
   ],
   "source": [
    "df['class'].value_counts()"
   ]
  },
  {
   "cell_type": "code",
   "execution_count": 254,
   "metadata": {},
   "outputs": [
    {
     "data": {
      "image/png": "[encoded data removed]",
      "text/plain": [
       "<Figure size 640x480 with 1 Axes>"
      ]
     },
     "metadata": {},
     "output_type": "display_data"
    },
    {
     "data": {
      "image/png": "[encoded data removed]",
      "text/plain": [
       "<Figure size 640x480 with 1 Axes>"
      ]
     },
     "metadata": {},
     "output_type": "display_data"
    },
    {
     "data": {
      "image/png": "[encoded data removed]",
      "text/plain": [
       "<Figure size 640x480 with 1 Axes>"
      ]
     },
     "metadata": {},
     "output_type": "display_data"
    },
    {
     "data": {
      "image/png": "[encoded data removed]",
      "text/plain": [
       "<Figure size 640x480 with 1 Axes>"
      ]
     },
     "metadata": {},
     "output_type": "display_data"
    },
    {
     "data": {
      "image/png": "[encoded data removed]",
      "text/plain": [
       "<Figure size 640x480 with 1 Axes>"
      ]
     },
     "metadata": {},
     "output_type": "display_data"
    }
   ],
   "source": [
    "# Produce Image\n",
    "for i in range(5):\n",
    "    image_maker(i, df, class_='Dress')"
   ]
  },
  {
   "attachments": {},
   "cell_type": "markdown",
   "metadata": {},
   "source": [
    "# Model Building"
   ]
  },
  {
   "attachments": {},
   "cell_type": "markdown",
   "metadata": {},
   "source": [
    "## Train Test Split"
   ]
  },
  {
   "cell_type": "code",
   "execution_count": 150,
   "metadata": {},
   "outputs": [],
   "source": [
    "X = df.copy()\n",
    "y = X.pop('class')"
   ]
  },
  {
   "attachments": {},
   "cell_type": "markdown",
   "metadata": {},
   "source": [
    "### Mini Training Set\n",
    "Because it's computationally Expensive"
   ]
  },
  {
   "cell_type": "code",
   "execution_count": 218,
   "metadata": {},
   "outputs": [],
   "source": [
    "from sklearn.model_selection import train_test_split\n",
    "\n",
    "X_train, X_test, y_train, y_test = train_test_split(X, y, train_size=2500, test_size = 1000)"
   ]
  },
  {
   "cell_type": "code",
   "execution_count": 219,
   "metadata": {},
   "outputs": [
    {
     "data": {
      "text/plain": [
       "class\n",
       "Shirt            266\n",
       "Coat             258\n",
       "Boot             257\n",
       "T-shirt / Top    254\n",
       "Dress            252\n",
       "Sandal           251\n",
       "Sneaker          251\n",
       "Pullover         243\n",
       "Bag              239\n",
       "Trouser          229\n",
       "Name: count, dtype: int64"
      ]
     },
     "execution_count": 219,
     "metadata": {},
     "output_type": "execute_result"
    }
   ],
   "source": [
    "# Didn't stratify the data.\n",
    "y_train.value_counts()"
   ]
  },
  {
   "cell_type": "code",
   "execution_count": 220,
   "metadata": {},
   "outputs": [
    {
     "data": {
      "text/plain": [
       "class\n",
       "Dress            118\n",
       "Sandal           110\n",
       "Coat             104\n",
       "Trouser          104\n",
       "Sneaker          103\n",
       "Pullover         100\n",
       "Bag               99\n",
       "Shirt             95\n",
       "T-shirt / Top     84\n",
       "Boot              83\n",
       "Name: count, dtype: int64"
      ]
     },
     "execution_count": 220,
     "metadata": {},
     "output_type": "execute_result"
    }
   ],
   "source": [
    "y_test.value_counts()"
   ]
  },
  {
   "attachments": {},
   "cell_type": "markdown",
   "metadata": {},
   "source": [
    "## Building the Pipeline"
   ]
  },
  {
   "attachments": {},
   "cell_type": "markdown",
   "metadata": {},
   "source": [
    "### Scaler"
   ]
  },
  {
   "cell_type": "code",
   "execution_count": 221,
   "metadata": {},
   "outputs": [],
   "source": [
    "# To scale the pixel data from a 0-255 scale to a 0 to 1 scale.\n",
    "from sklearn.preprocessing import MinMaxScaler\n",
    "scaler = MinMaxScaler()"
   ]
  },
  {
   "attachments": {},
   "cell_type": "markdown",
   "metadata": {},
   "source": [
    "### ML Algorithms"
   ]
  },
  {
   "cell_type": "code",
   "execution_count": 222,
   "metadata": {},
   "outputs": [],
   "source": [
    "from sklearn.ensemble import RandomForestClassifier\n",
    "from sklearn.linear_model import LogisticRegression\n",
    "from sklearn.neural_network import MLPClassifier\n",
    "from sklearn.svm import SVC\n",
    "from sklearn.neighbors import KNeighborsClassifier\n",
    "\n",
    "\n",
    "classifiers = [RandomForestClassifier(n_jobs=-1), \n",
    "               LogisticRegression(n_jobs=-1),  \n",
    "               MLPClassifier(max_iter=500), \n",
    "               SVC(),\n",
    "               KNeighborsClassifier()]"
   ]
  },
  {
   "attachments": {},
   "cell_type": "markdown",
   "metadata": {},
   "source": [
    "### Grid Search"
   ]
  },
  {
   "cell_type": "code",
   "execution_count": 223,
   "metadata": {},
   "outputs": [
    {
     "name": "stdout",
     "output_type": "stream",
     "text": [
      "Fitting 5 folds for each of 1 candidates, totalling 5 fits\n",
      "[CV 1/5] END ..................................., score=0.806 total time=   0.9s\n",
      "[CV 2/5] END ..................................., score=0.802 total time=   1.0s\n",
      "[CV 3/5] END ..................................., score=0.862 total time=   0.8s\n",
      "[CV 4/5] END ..................................., score=0.804 total time=   0.8s\n",
      "[CV 5/5] END ..................................., score=0.822 total time=   0.8s\n",
      "RandomForestClassifier(n_jobs=-1) ACCURACY: 81.92%\n",
      "\n",
      "Fitting 5 folds for each of 1 candidates, totalling 5 fits\n",
      "[CV 1/5] END ..................................., score=0.800 total time=   1.6s\n",
      "[CV 2/5] END ..................................., score=0.774 total time=   1.5s\n",
      "[CV 3/5] END ..................................., score=0.822 total time=   1.6s\n",
      "[CV 4/5] END ..................................., score=0.798 total time=   1.6s\n",
      "[CV 5/5] END ..................................., score=0.836 total time=   1.6s\n",
      "LogisticRegression(n_jobs=-1) ACCURACY: 80.60000000000001%\n",
      "\n",
      "Fitting 5 folds for each of 1 candidates, totalling 5 fits\n",
      "[CV 1/5] END ..................................., score=0.818 total time=  13.3s\n",
      "[CV 2/5] END ..................................., score=0.800 total time=  13.7s\n",
      "[CV 3/5] END ..................................., score=0.854 total time=  13.9s\n",
      "[CV 4/5] END ..................................., score=0.816 total time=  14.4s\n",
      "[CV 5/5] END ..................................., score=0.844 total time=  14.1s\n",
      "MLPClassifier(max_iter=500) ACCURACY: 82.63999999999999%\n",
      "\n",
      "Fitting 5 folds for each of 1 candidates, totalling 5 fits\n",
      "[CV 1/5] END ..................................., score=0.796 total time=   0.7s\n",
      "[CV 2/5] END ..................................., score=0.796 total time=   0.7s\n",
      "[CV 3/5] END ..................................., score=0.834 total time=   0.7s\n",
      "[CV 4/5] END ..................................., score=0.812 total time=   0.7s\n",
      "[CV 5/5] END ..................................., score=0.834 total time=   0.7s\n",
      "SVC() ACCURACY: 81.44%\n",
      "\n",
      "Fitting 5 folds for each of 1 candidates, totalling 5 fits\n",
      "[CV 1/5] END ..................................., score=0.786 total time=   0.0s\n",
      "[CV 2/5] END ..................................., score=0.772 total time=   0.0s\n",
      "[CV 3/5] END ..................................., score=0.810 total time=   0.0s\n",
      "[CV 4/5] END ..................................., score=0.772 total time=   0.0s\n",
      "[CV 5/5] END ..................................., score=0.790 total time=   0.0s\n",
      "KNeighborsClassifier() ACCURACY: 78.60000000000001%\n",
      "\n"
     ]
    }
   ],
   "source": [
    "# Grid Search\n",
    "# Building the Pipeline\n",
    "from sklearn.pipeline import make_pipeline\n",
    "from sklearn.model_selection import GridSearchCV\n",
    "\n",
    "for classifier in classifiers:\n",
    "    pipe = make_pipeline(scaler, classifier)\n",
    "    grid = GridSearchCV(pipe, \n",
    "                        cv=5, \n",
    "                        scoring='accuracy', \n",
    "                        param_grid={},\n",
    "                        verbose=3)\n",
    "    grid.fit(X_train, y_train)\n",
    "    score = grid.best_score_\n",
    "\n",
    "    print(f\"{classifier} ACCURACY: {score * 100}%\\n\")"
   ]
  },
  {
   "attachments": {},
   "cell_type": "markdown",
   "metadata": {},
   "source": [
    "## Increasing Training Size"
   ]
  },
  {
   "cell_type": "code",
   "execution_count": 224,
   "metadata": {},
   "outputs": [
    {
     "name": "stdout",
     "output_type": "stream",
     "text": [
      "Fitting 5 folds for each of 1 candidates, totalling 5 fits\n",
      "[CV 1/5] END ..................................., score=0.863 total time=   5.8s\n",
      "[CV 2/5] END ..................................., score=0.850 total time=   3.6s\n",
      "[CV 3/5] END ..................................., score=0.854 total time=   3.6s\n",
      "[CV 4/5] END ..................................., score=0.853 total time=   3.5s\n",
      "[CV 5/5] END ..................................., score=0.845 total time=   3.5s\n",
      "RandomForestClassifier(n_jobs=-1) ACCURACY: 85.28999999999999%\n",
      "\n",
      "Fitting 5 folds for each of 1 candidates, totalling 5 fits\n",
      "[CV 1/5] END ..................................., score=0.839 total time=   3.3s\n",
      "[CV 2/5] END ..................................., score=0.833 total time=   3.4s\n",
      "[CV 3/5] END ..................................., score=0.836 total time=   3.5s\n",
      "[CV 4/5] END ..................................., score=0.842 total time=   3.4s\n",
      "[CV 5/5] END ..................................., score=0.835 total time=   3.4s\n",
      "LogisticRegression(n_jobs=-1) ACCURACY: 83.67999999999999%\n",
      "\n",
      "Fitting 5 folds for each of 1 candidates, totalling 5 fits\n",
      "[CV 1/5] END ..................................., score=0.859 total time=  11.2s\n",
      "[CV 2/5] END ..................................., score=0.856 total time=  11.1s\n",
      "[CV 3/5] END ..................................., score=0.858 total time=  10.9s\n",
      "[CV 4/5] END ..................................., score=0.860 total time=  10.9s\n",
      "[CV 5/5] END ..................................., score=0.854 total time=  11.5s\n",
      "SVC() ACCURACY: 85.7%\n",
      "\n",
      "Fitting 5 folds for each of 1 candidates, totalling 5 fits\n",
      "[CV 1/5] END ..................................., score=0.831 total time=   0.4s\n",
      "[CV 2/5] END ..................................., score=0.817 total time=   0.4s\n",
      "[CV 3/5] END ..................................., score=0.815 total time=   0.4s\n",
      "[CV 4/5] END ..................................., score=0.817 total time=   0.4s\n",
      "[CV 5/5] END ..................................., score=0.825 total time=   0.4s\n",
      "KNeighborsClassifier() ACCURACY: 82.09%\n",
      "\n"
     ]
    }
   ],
   "source": [
    "X_train, X_test, y_train, y_test = train_test_split(X, y, train_size=10000, test_size = 1000)\n",
    "\n",
    "classifiers = [RandomForestClassifier(n_jobs=-1), \n",
    "               LogisticRegression(n_jobs=-1), \n",
    "               SVC(),\n",
    "               KNeighborsClassifier()]\n",
    "\n",
    "for classifier in classifiers:\n",
    "    pipe = make_pipeline(scaler, classifier)\n",
    "    grid = GridSearchCV(pipe, \n",
    "                        cv=5, \n",
    "                        scoring='accuracy', \n",
    "                        param_grid={},\n",
    "                        verbose=3)\n",
    "    grid.fit(X_train, y_train)\n",
    "    score = grid.best_score_\n",
    "\n",
    "    print(f\"{classifier} ACCURACY: {score * 100}%\\n\")"
   ]
  },
  {
   "attachments": {},
   "cell_type": "markdown",
   "metadata": {},
   "source": [
    "KNN Seems the Fastest"
   ]
  },
  {
   "cell_type": "code",
   "execution_count": 225,
   "metadata": {},
   "outputs": [
    {
     "name": "stdout",
     "output_type": "stream",
     "text": [
      "Fitting 5 folds for each of 1 candidates, totalling 5 fits\n",
      "[CV 1/5] END ..................................., score=0.852 total time=   8.5s\n",
      "[CV 2/5] END ..................................., score=0.855 total time=   8.8s\n",
      "[CV 3/5] END ..................................., score=0.856 total time=   8.4s\n",
      "[CV 4/5] END ..................................., score=0.853 total time=   9.0s\n",
      "[CV 5/5] END ..................................., score=0.849 total time=   8.8s\n",
      "KNeighborsClassifier() ACCURACY: 85.30178571428571%\n",
      "\n"
     ]
    }
   ],
   "source": [
    "X_train, X_test, y_train, y_test = train_test_split(X, y, train_size=0.8, test_size = 0.2)\n",
    "\n",
    "classifiers = [KNeighborsClassifier()]\n",
    "\n",
    "for classifier in classifiers:\n",
    "    pipe = make_pipeline(scaler, classifier)\n",
    "    grid = GridSearchCV(pipe, \n",
    "                        cv=5, \n",
    "                        scoring='accuracy', \n",
    "                        param_grid={},\n",
    "                        verbose=3)\n",
    "    grid.fit(X_train, y_train)\n",
    "    score = grid.best_score_\n",
    "\n",
    "    print(f\"{classifier} ACCURACY: {score * 100}%\\n\")"
   ]
  },
  {
   "attachments": {},
   "cell_type": "markdown",
   "metadata": {},
   "source": [
    "Parameter Tuning KNN"
   ]
  },
  {
   "cell_type": "code",
   "execution_count": 227,
   "metadata": {},
   "outputs": [
    {
     "name": "stdout",
     "output_type": "stream",
     "text": [
      "Fitting 5 folds for each of 12 candidates, totalling 60 fits\n",
      "[CV 1/5] END kneighborsclassifier__n_neighbors=3, kneighborsclassifier__p=1, kneighborsclassifier__weights=uniform;, score=0.858 total time= 1.6min\n",
      "[CV 2/5] END kneighborsclassifier__n_neighbors=3, kneighborsclassifier__p=1, kneighborsclassifier__weights=uniform;, score=0.860 total time= 1.6min\n",
      "[CV 3/5] END kneighborsclassifier__n_neighbors=3, kneighborsclassifier__p=1, kneighborsclassifier__weights=uniform;, score=0.861 total time= 1.7min\n",
      "[CV 4/5] END kneighborsclassifier__n_neighbors=3, kneighborsclassifier__p=1, kneighborsclassifier__weights=uniform;, score=0.856 total time= 1.7min\n",
      "[CV 5/5] END kneighborsclassifier__n_neighbors=3, kneighborsclassifier__p=1, kneighborsclassifier__weights=uniform;, score=0.854 total time= 1.6min\n",
      "[CV 1/5] END kneighborsclassifier__n_neighbors=3, kneighborsclassifier__p=1, kneighborsclassifier__weights=distance;, score=0.860 total time= 1.6min\n",
      "[CV 2/5] END kneighborsclassifier__n_neighbors=3, kneighborsclassifier__p=1, kneighborsclassifier__weights=distance;, score=0.860 total time= 1.6min\n",
      "[CV 3/5] END kneighborsclassifier__n_neighbors=3, kneighborsclassifier__p=1, kneighborsclassifier__weights=distance;, score=0.862 total time= 1.6min\n",
      "[CV 4/5] END kneighborsclassifier__n_neighbors=3, kneighborsclassifier__p=1, kneighborsclassifier__weights=distance;, score=0.857 total time= 1.6min\n",
      "[CV 5/5] END kneighborsclassifier__n_neighbors=3, kneighborsclassifier__p=1, kneighborsclassifier__weights=distance;, score=0.856 total time= 1.7min\n",
      "[CV 1/5] END kneighborsclassifier__n_neighbors=3, kneighborsclassifier__p=2, kneighborsclassifier__weights=uniform;, score=0.850 total time=   8.6s\n",
      "[CV 2/5] END kneighborsclassifier__n_neighbors=3, kneighborsclassifier__p=2, kneighborsclassifier__weights=uniform;, score=0.853 total time=   8.7s\n",
      "[CV 3/5] END kneighborsclassifier__n_neighbors=3, kneighborsclassifier__p=2, kneighborsclassifier__weights=uniform;, score=0.855 total time=   8.7s\n",
      "[CV 4/5] END kneighborsclassifier__n_neighbors=3, kneighborsclassifier__p=2, kneighborsclassifier__weights=uniform;, score=0.853 total time=   8.6s\n",
      "[CV 5/5] END kneighborsclassifier__n_neighbors=3, kneighborsclassifier__p=2, kneighborsclassifier__weights=uniform;, score=0.846 total time=   8.8s\n",
      "[CV 1/5] END kneighborsclassifier__n_neighbors=3, kneighborsclassifier__p=2, kneighborsclassifier__weights=distance;, score=0.851 total time=   8.6s\n",
      "[CV 2/5] END kneighborsclassifier__n_neighbors=3, kneighborsclassifier__p=2, kneighborsclassifier__weights=distance;, score=0.855 total time=   8.4s\n",
      "[CV 3/5] END kneighborsclassifier__n_neighbors=3, kneighborsclassifier__p=2, kneighborsclassifier__weights=distance;, score=0.857 total time=   8.7s\n",
      "[CV 4/5] END kneighborsclassifier__n_neighbors=3, kneighborsclassifier__p=2, kneighborsclassifier__weights=distance;, score=0.854 total time=   8.6s\n",
      "[CV 5/5] END kneighborsclassifier__n_neighbors=3, kneighborsclassifier__p=2, kneighborsclassifier__weights=distance;, score=0.847 total time=   8.5s\n",
      "[CV 1/5] END kneighborsclassifier__n_neighbors=5, kneighborsclassifier__p=1, kneighborsclassifier__weights=uniform;, score=0.862 total time= 1.6min\n",
      "[CV 2/5] END kneighborsclassifier__n_neighbors=5, kneighborsclassifier__p=1, kneighborsclassifier__weights=uniform;, score=0.860 total time= 1.6min\n",
      "[CV 3/5] END kneighborsclassifier__n_neighbors=5, kneighborsclassifier__p=1, kneighborsclassifier__weights=uniform;, score=0.864 total time= 1.6min\n",
      "[CV 4/5] END kneighborsclassifier__n_neighbors=5, kneighborsclassifier__p=1, kneighborsclassifier__weights=uniform;, score=0.859 total time= 1.6min\n",
      "[CV 5/5] END kneighborsclassifier__n_neighbors=5, kneighborsclassifier__p=1, kneighborsclassifier__weights=uniform;, score=0.855 total time= 1.8min\n",
      "[CV 1/5] END kneighborsclassifier__n_neighbors=5, kneighborsclassifier__p=1, kneighborsclassifier__weights=distance;, score=0.863 total time= 1.7min\n",
      "[CV 2/5] END kneighborsclassifier__n_neighbors=5, kneighborsclassifier__p=1, kneighborsclassifier__weights=distance;, score=0.860 total time= 1.7min\n",
      "[CV 3/5] END kneighborsclassifier__n_neighbors=5, kneighborsclassifier__p=1, kneighborsclassifier__weights=distance;, score=0.865 total time= 1.6min\n",
      "[CV 4/5] END kneighborsclassifier__n_neighbors=5, kneighborsclassifier__p=1, kneighborsclassifier__weights=distance;, score=0.860 total time= 1.8min\n",
      "[CV 5/5] END kneighborsclassifier__n_neighbors=5, kneighborsclassifier__p=1, kneighborsclassifier__weights=distance;, score=0.856 total time= 1.8min\n",
      "[CV 1/5] END kneighborsclassifier__n_neighbors=5, kneighborsclassifier__p=2, kneighborsclassifier__weights=uniform;, score=0.852 total time=   9.1s\n",
      "[CV 2/5] END kneighborsclassifier__n_neighbors=5, kneighborsclassifier__p=2, kneighborsclassifier__weights=uniform;, score=0.855 total time=   8.9s\n",
      "[CV 3/5] END kneighborsclassifier__n_neighbors=5, kneighborsclassifier__p=2, kneighborsclassifier__weights=uniform;, score=0.856 total time=   8.9s\n",
      "[CV 4/5] END kneighborsclassifier__n_neighbors=5, kneighborsclassifier__p=2, kneighborsclassifier__weights=uniform;, score=0.853 total time=   9.3s\n",
      "[CV 5/5] END kneighborsclassifier__n_neighbors=5, kneighborsclassifier__p=2, kneighborsclassifier__weights=uniform;, score=0.849 total time=   9.2s\n",
      "[CV 1/5] END kneighborsclassifier__n_neighbors=5, kneighborsclassifier__p=2, kneighborsclassifier__weights=distance;, score=0.853 total time=   8.7s\n",
      "[CV 2/5] END kneighborsclassifier__n_neighbors=5, kneighborsclassifier__p=2, kneighborsclassifier__weights=distance;, score=0.855 total time=   8.9s\n",
      "[CV 3/5] END kneighborsclassifier__n_neighbors=5, kneighborsclassifier__p=2, kneighborsclassifier__weights=distance;, score=0.857 total time=   9.1s\n",
      "[CV 4/5] END kneighborsclassifier__n_neighbors=5, kneighborsclassifier__p=2, kneighborsclassifier__weights=distance;, score=0.853 total time=   9.1s\n",
      "[CV 5/5] END kneighborsclassifier__n_neighbors=5, kneighborsclassifier__p=2, kneighborsclassifier__weights=distance;, score=0.851 total time=   8.9s\n",
      "[CV 1/5] END kneighborsclassifier__n_neighbors=7, kneighborsclassifier__p=1, kneighborsclassifier__weights=uniform;, score=0.860 total time= 1.7min\n",
      "[CV 2/5] END kneighborsclassifier__n_neighbors=7, kneighborsclassifier__p=1, kneighborsclassifier__weights=uniform;, score=0.858 total time= 1.7min\n",
      "[CV 3/5] END kneighborsclassifier__n_neighbors=7, kneighborsclassifier__p=1, kneighborsclassifier__weights=uniform;, score=0.861 total time= 1.8min\n",
      "[CV 4/5] END kneighborsclassifier__n_neighbors=7, kneighborsclassifier__p=1, kneighborsclassifier__weights=uniform;, score=0.859 total time= 1.8min\n",
      "[CV 5/5] END kneighborsclassifier__n_neighbors=7, kneighborsclassifier__p=1, kneighborsclassifier__weights=uniform;, score=0.854 total time= 1.9min\n",
      "[CV 1/5] END kneighborsclassifier__n_neighbors=7, kneighborsclassifier__p=1, kneighborsclassifier__weights=distance;, score=0.861 total time= 1.7min\n",
      "[CV 2/5] END kneighborsclassifier__n_neighbors=7, kneighborsclassifier__p=1, kneighborsclassifier__weights=distance;, score=0.860 total time= 1.7min\n",
      "[CV 3/5] END kneighborsclassifier__n_neighbors=7, kneighborsclassifier__p=1, kneighborsclassifier__weights=distance;, score=0.861 total time= 1.6min\n",
      "[CV 4/5] END kneighborsclassifier__n_neighbors=7, kneighborsclassifier__p=1, kneighborsclassifier__weights=distance;, score=0.861 total time= 1.7min\n",
      "[CV 5/5] END kneighborsclassifier__n_neighbors=7, kneighborsclassifier__p=1, kneighborsclassifier__weights=distance;, score=0.856 total time= 1.7min\n",
      "[CV 1/5] END kneighborsclassifier__n_neighbors=7, kneighborsclassifier__p=2, kneighborsclassifier__weights=uniform;, score=0.853 total time=   9.4s\n",
      "[CV 2/5] END kneighborsclassifier__n_neighbors=7, kneighborsclassifier__p=2, kneighborsclassifier__weights=uniform;, score=0.853 total time=   9.2s\n",
      "[CV 3/5] END kneighborsclassifier__n_neighbors=7, kneighborsclassifier__p=2, kneighborsclassifier__weights=uniform;, score=0.856 total time=   9.5s\n",
      "[CV 4/5] END kneighborsclassifier__n_neighbors=7, kneighborsclassifier__p=2, kneighborsclassifier__weights=uniform;, score=0.851 total time=   9.1s\n",
      "[CV 5/5] END kneighborsclassifier__n_neighbors=7, kneighborsclassifier__p=2, kneighborsclassifier__weights=uniform;, score=0.851 total time=   8.9s\n",
      "[CV 1/5] END kneighborsclassifier__n_neighbors=7, kneighborsclassifier__p=2, kneighborsclassifier__weights=distance;, score=0.854 total time=   8.8s\n",
      "[CV 2/5] END kneighborsclassifier__n_neighbors=7, kneighborsclassifier__p=2, kneighborsclassifier__weights=distance;, score=0.854 total time=   9.0s\n",
      "[CV 3/5] END kneighborsclassifier__n_neighbors=7, kneighborsclassifier__p=2, kneighborsclassifier__weights=distance;, score=0.857 total time=   8.8s\n",
      "[CV 4/5] END kneighborsclassifier__n_neighbors=7, kneighborsclassifier__p=2, kneighborsclassifier__weights=distance;, score=0.852 total time=   9.2s\n",
      "[CV 5/5] END kneighborsclassifier__n_neighbors=7, kneighborsclassifier__p=2, kneighborsclassifier__weights=distance;, score=0.851 total time=   9.2s\n",
      "Best Score: 0.86075\n",
      "Best Params: {'kneighborsclassifier__n_neighbors': 5, 'kneighborsclassifier__p': 1, 'kneighborsclassifier__weights': 'distance'}\n"
     ]
    }
   ],
   "source": [
    "param_grid = {\n",
    "    'kneighborsclassifier__n_neighbors': [3, 5, 7],\n",
    "    'kneighborsclassifier__weights': ['uniform', 'distance'],\n",
    "    'kneighborsclassifier__p': [1, 2]\n",
    "}\n",
    "\n",
    "pipe = make_pipeline(scaler, KNeighborsClassifier())\n",
    "grid = GridSearchCV(pipe, param_grid=param_grid, scoring='accuracy', cv=5, verbose=3)\n",
    "grid.fit(X_train, y_train)\n",
    "\n",
    "print(\"Best Score:\", grid.best_score_)\n",
    "print(\"Best Params:\", grid.best_params_)"
   ]
  },
  {
   "attachments": {},
   "cell_type": "markdown",
   "metadata": {},
   "source": [
    "Best Score: 0.86075\n",
    "Best Params: {'kneighborsclassifier__n_neighbors': 5, 'kneighborsclassifier__p': 1, 'kneighborsclassifier__weights': 'distance'}"
   ]
  },
  {
   "attachments": {},
   "cell_type": "markdown",
   "metadata": {},
   "source": [
    "### XGB Boost"
   ]
  },
  {
   "cell_type": "code",
   "execution_count": null,
   "metadata": {},
   "outputs": [],
   "source": [
    "import xgboost as xgb\n",
    "from sklearn.metrics import accuracy_score\n",
    "\n",
    "# Define the XGBoost classifier\n",
    "xgb_classifier = xgb.XGBClassifier()\n",
    "\n",
    "# Fit the classifier to the training data\n",
    "xgb_classifier.fit(X_train, y_train)\n",
    "\n",
    "# Make predictions on the test data\n",
    "y_pred = xgb_classifier.predict(X_test)\n",
    "\n",
    "# Calculate the accuracy score\n",
    "accuracy = accuracy_score(y_test, y_pred)\n",
    "print(\"Accuracy:\", accuracy)\n"
   ]
  },
  {
   "attachments": {},
   "cell_type": "markdown",
   "metadata": {},
   "source": [
    "### CNN"
   ]
  },
  {
   "cell_type": "code",
   "execution_count": null,
   "metadata": {},
   "outputs": [],
   "source": [
    "pip install tensorflow"
   ]
  },
  {
   "cell_type": "code",
   "execution_count": null,
   "metadata": {},
   "outputs": [],
   "source": [
    "from tensorflow import keras\n",
    "from tensorflow.keras import layers\n",
    "\n",
    "# Define the model architecture\n",
    "model = keras.Sequential([\n",
    "    layers.Conv2D(32, kernel_size=(3, 3), activation='relu', input_shape=(28, 28, 1)),\n",
    "    layers.MaxPooling2D(pool_size=(2, 2)),\n",
    "    layers.Flatten(),\n",
    "    layers.Dense(128, activation='relu'),\n",
    "    layers.Dense(10, activation='softmax')\n",
    "])\n",
    "\n",
    "# Compile the model\n",
    "model.compile(optimizer='adam',\n",
    "              loss='sparse_categorical_crossentropy',\n",
    "              metrics=['accuracy'])\n",
    "\n",
    "# Preprocess the data (assuming X_train and y_train are your training data)\n",
    "X_train = X_train.reshape(-1, 28, 28, 1)\n",
    "X_train = X_train.astype('float32') / 255.0\n",
    "\n",
    "# Train the model\n",
    "model.fit(X_train, y_train, epochs=10, batch_size=32)\n",
    "\n",
    "# Evaluate the model (assuming X_test and y_test are your test data)\n",
    "X_test = X_test.reshape(-1, 28, 28, 1)\n",
    "X_test = X_test.astype('float32') / 255.0\n",
    "\n",
    "loss, accuracy = model.evaluate(X_test, y_test)\n",
    "print(\"Test loss:\", loss)\n",
    "print(\"Test accuracy:\", accuracy)\n"
   ]
  },
  {
   "attachments": {},
   "cell_type": "markdown",
   "metadata": {},
   "source": [
    "## Best Model"
   ]
  },
  {
   "attachments": {},
   "cell_type": "markdown",
   "metadata": {},
   "source": [
    "## Testing Data"
   ]
  },
  {
   "cell_type": "code",
   "execution_count": null,
   "metadata": {},
   "outputs": [],
   "source": [
    "grid.best_estimator_.score(X_test, y_test)"
   ]
  },
  {
   "cell_type": "code",
   "execution_count": null,
   "metadata": {},
   "outputs": [],
   "source": [
    "model = make_pipeline(preprocessor, SVC(C=2, probability=True))"
   ]
  },
  {
   "attachments": {},
   "cell_type": "markdown",
   "metadata": {},
   "source": [
    "## Refitting Data"
   ]
  },
  {
   "cell_type": "code",
   "execution_count": null,
   "metadata": {},
   "outputs": [],
   "source": [
    "model.fit(X, y)"
   ]
  },
  {
   "cell_type": "code",
   "execution_count": null,
   "metadata": {},
   "outputs": [],
   "source": [
    "model.score(X, y)"
   ]
  },
  {
   "cell_type": "code",
   "execution_count": null,
   "metadata": {},
   "outputs": [],
   "source": [
    "from joblib import dump\n",
    "dump(model, \"churn_model.joblib\")"
   ]
  },
  {
   "attachments": {},
   "cell_type": "markdown",
   "metadata": {},
   "source": [
    "# Confusion Matrix"
   ]
  },
  {
   "cell_type": "code",
   "execution_count": null,
   "metadata": {},
   "outputs": [],
   "source": []
  },
  {
   "attachments": {},
   "cell_type": "markdown",
   "metadata": {},
   "source": [
    "## Show Errors and Probabilities"
   ]
  },
  {
   "cell_type": "code",
   "execution_count": null,
   "metadata": {},
   "outputs": [],
   "source": []
  }
 ],
 "metadata": {
  "kernelspec": {
   "display_name": "Python 3",
   "language": "python",
   "name": "python3"
  },
  "language_info": {
   "codemirror_mode": {
    "name": "ipython",
    "version": 3
   },
   "file_extension": ".py",
   "mimetype": "text/x-python",
   "name": "python",
   "nbconvert_exporter": "python",
   "pygments_lexer": "ipython3",
   "version": "3.11.3"
  },
  "orig_nbformat": 4
 },
 "nbformat": 4,
 "nbformat_minor": 2
}
