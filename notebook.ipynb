{
 "cells": [
  {
   "attachments": {},
   "cell_type": "markdown",
   "metadata": {},
   "source": [
    "# NOD Coding Image Recognition Project\n",
    "- **Date:** June 5th, 2023\n",
    "\n",
    "This project is my first attempt at using Machine Learning to recognize images using the standard ´Fashion-MNIST´ dataset that is a part of the sklearn library."
   ]
  },
  {
   "attachments": {},
   "cell_type": "markdown",
   "metadata": {},
   "source": [
    "# Data Preparation"
   ]
  },
  {
   "attachments": {},
   "cell_type": "markdown",
   "metadata": {},
   "source": [
    "## Libraries"
   ]
  },
  {
   "cell_type": "code",
   "execution_count": 196,
   "metadata": {},
   "outputs": [],
   "source": [
    "import pandas as pd # manipulation of the dataset\n",
    "import matplotlib.pyplot as plt # for displaying the images in the dataset\n",
    "import numpy as np"
   ]
  },
  {
   "attachments": {},
   "cell_type": "markdown",
   "metadata": {},
   "source": [
    "## Data Import"
   ]
  },
  {
   "cell_type": "code",
   "execution_count": 122,
   "metadata": {},
   "outputs": [
    {
     "name": "stderr",
     "output_type": "stream",
     "text": [
      "c:\\Users\\james\\AppData\\Local\\Programs\\Python\\Python311\\Lib\\site-packages\\sklearn\\datasets\\_openml.py:968: FutureWarning: The default value of `parser` will change from `'liac-arff'` to `'auto'` in 1.4. You can set `parser='auto'` to silence this warning. Therefore, an `ImportError` will be raised from 1.4 if the dataset is dense and pandas is not installed. Note that the pandas parser may return different data types. See the Notes Section in fetch_openml's API doc for details.\n",
      "  warn(\n"
     ]
    }
   ],
   "source": [
    "# Getting the dataset.\n",
    "from sklearn.datasets import fetch_openml\n",
    "\n",
    "fmnist = fetch_openml(name='Fashion-MNIST')"
   ]
  },
  {
   "cell_type": "code",
   "execution_count": 163,
   "metadata": {},
   "outputs": [
    {
     "data": {
      "text/html": [
       "<div>\n",
       "<style scoped>\n",
       "    .dataframe tbody tr th:only-of-type {\n",
       "        vertical-align: middle;\n",
       "    }\n",
       "\n",
       "    .dataframe tbody tr th {\n",
       "        vertical-align: top;\n",
       "    }\n",
       "\n",
       "    .dataframe thead th {\n",
       "        text-align: right;\n",
       "    }\n",
       "</style>\n",
       "<table border=\"1\" class=\"dataframe\">\n",
       "  <thead>\n",
       "    <tr style=\"text-align: right;\">\n",
       "      <th></th>\n",
       "      <th>pixel1</th>\n",
       "      <th>pixel2</th>\n",
       "      <th>pixel3</th>\n",
       "      <th>pixel4</th>\n",
       "      <th>pixel5</th>\n",
       "      <th>pixel6</th>\n",
       "      <th>pixel7</th>\n",
       "      <th>pixel8</th>\n",
       "      <th>pixel9</th>\n",
       "      <th>pixel10</th>\n",
       "      <th>...</th>\n",
       "      <th>pixel776</th>\n",
       "      <th>pixel777</th>\n",
       "      <th>pixel778</th>\n",
       "      <th>pixel779</th>\n",
       "      <th>pixel780</th>\n",
       "      <th>pixel781</th>\n",
       "      <th>pixel782</th>\n",
       "      <th>pixel783</th>\n",
       "      <th>pixel784</th>\n",
       "      <th>class</th>\n",
       "    </tr>\n",
       "  </thead>\n",
       "  <tbody>\n",
       "    <tr>\n",
       "      <th>0</th>\n",
       "      <td>0.0</td>\n",
       "      <td>0.0</td>\n",
       "      <td>0.0</td>\n",
       "      <td>0.0</td>\n",
       "      <td>0.0</td>\n",
       "      <td>0.0</td>\n",
       "      <td>0.0</td>\n",
       "      <td>0.0</td>\n",
       "      <td>0.0</td>\n",
       "      <td>0.0</td>\n",
       "      <td>...</td>\n",
       "      <td>0.0</td>\n",
       "      <td>0.0</td>\n",
       "      <td>0.0</td>\n",
       "      <td>0.0</td>\n",
       "      <td>0.0</td>\n",
       "      <td>0.0</td>\n",
       "      <td>0.0</td>\n",
       "      <td>0.0</td>\n",
       "      <td>0.0</td>\n",
       "      <td>9</td>\n",
       "    </tr>\n",
       "  </tbody>\n",
       "</table>\n",
       "<p>1 rows × 785 columns</p>\n",
       "</div>"
      ],
      "text/plain": [
       "   pixel1  pixel2  pixel3  pixel4  pixel5  pixel6  pixel7  pixel8  pixel9   \n",
       "0     0.0     0.0     0.0     0.0     0.0     0.0     0.0     0.0     0.0  \\\n",
       "\n",
       "   pixel10  ...  pixel776  pixel777  pixel778  pixel779  pixel780  pixel781   \n",
       "0      0.0  ...       0.0       0.0       0.0       0.0       0.0       0.0  \\\n",
       "\n",
       "   pixel782  pixel783  pixel784  class  \n",
       "0       0.0       0.0       0.0      9  \n",
       "\n",
       "[1 rows x 785 columns]"
      ]
     },
     "execution_count": 163,
     "metadata": {},
     "output_type": "execute_result"
    }
   ],
   "source": [
    "# Create a DataFrame from the dataset\n",
    "df = pd.concat([fmnist['data'], fmnist['target']], axis=1)\n",
    "\n",
    "df.head(1)"
   ]
  },
  {
   "attachments": {},
   "cell_type": "markdown",
   "metadata": {},
   "source": [
    "## Exploratory Data Analysis"
   ]
  },
  {
   "cell_type": "code",
   "execution_count": 164,
   "metadata": {},
   "outputs": [
    {
     "data": {
      "text/plain": [
       "(70000, 785)"
      ]
     },
     "execution_count": 164,
     "metadata": {},
     "output_type": "execute_result"
    }
   ],
   "source": [
    "df.shape"
   ]
  },
  {
   "attachments": {
    "image.png": {
     "image/png": "[encoded data removed]"
    }
   },
   "cell_type": "markdown",
   "metadata": {},
   "source": [
    "- Dataset has 70,000 images\n",
    "- Each image is 28 x 28 pixels, for a total of 784 columsn.\n",
    "- Each pixel has a number 0 to 255, representing its grayscale color.\n",
    "\n",
    "![image.png](attachment:image.png)"
   ]
  },
  {
   "attachments": {},
   "cell_type": "markdown",
   "metadata": {},
   "source": [
    "Each of the 70,000 images belongs to one of ten classes."
   ]
  },
  {
   "cell_type": "code",
   "execution_count": 165,
   "metadata": {},
   "outputs": [
    {
     "data": {
      "text/plain": [
       "['9', '0', '3', '2', '7', '5', '1', '6', '4', '8']\n",
       "Categories (10, object): ['0', '1', '2', '3', ..., '6', '7', '8', '9']"
      ]
     },
     "execution_count": 165,
     "metadata": {},
     "output_type": "execute_result"
    }
   ],
   "source": [
    "df['class'].unique()"
   ]
  },
  {
   "attachments": {},
   "cell_type": "markdown",
   "metadata": {},
   "source": [
    "Converting those classes to appropriate labels."
   ]
  },
  {
   "cell_type": "code",
   "execution_count": 166,
   "metadata": {},
   "outputs": [
    {
     "data": {
      "text/html": [
       "<div>\n",
       "<style scoped>\n",
       "    .dataframe tbody tr th:only-of-type {\n",
       "        vertical-align: middle;\n",
       "    }\n",
       "\n",
       "    .dataframe tbody tr th {\n",
       "        vertical-align: top;\n",
       "    }\n",
       "\n",
       "    .dataframe thead th {\n",
       "        text-align: right;\n",
       "    }\n",
       "</style>\n",
       "<table border=\"1\" class=\"dataframe\">\n",
       "  <thead>\n",
       "    <tr style=\"text-align: right;\">\n",
       "      <th></th>\n",
       "      <th>pixel1</th>\n",
       "      <th>pixel2</th>\n",
       "      <th>pixel3</th>\n",
       "      <th>pixel4</th>\n",
       "      <th>pixel5</th>\n",
       "      <th>pixel6</th>\n",
       "      <th>pixel7</th>\n",
       "      <th>pixel8</th>\n",
       "      <th>pixel9</th>\n",
       "      <th>pixel10</th>\n",
       "      <th>...</th>\n",
       "      <th>pixel776</th>\n",
       "      <th>pixel777</th>\n",
       "      <th>pixel778</th>\n",
       "      <th>pixel779</th>\n",
       "      <th>pixel780</th>\n",
       "      <th>pixel781</th>\n",
       "      <th>pixel782</th>\n",
       "      <th>pixel783</th>\n",
       "      <th>pixel784</th>\n",
       "      <th>class</th>\n",
       "    </tr>\n",
       "  </thead>\n",
       "  <tbody>\n",
       "    <tr>\n",
       "      <th>0</th>\n",
       "      <td>0.0</td>\n",
       "      <td>0.0</td>\n",
       "      <td>0.0</td>\n",
       "      <td>0.0</td>\n",
       "      <td>0.0</td>\n",
       "      <td>0.0</td>\n",
       "      <td>0.0</td>\n",
       "      <td>0.0</td>\n",
       "      <td>0.0</td>\n",
       "      <td>0.0</td>\n",
       "      <td>...</td>\n",
       "      <td>0.0</td>\n",
       "      <td>0.0</td>\n",
       "      <td>0.0</td>\n",
       "      <td>0.0</td>\n",
       "      <td>0.0</td>\n",
       "      <td>0.0</td>\n",
       "      <td>0.0</td>\n",
       "      <td>0.0</td>\n",
       "      <td>0.0</td>\n",
       "      <td>Boot</td>\n",
       "    </tr>\n",
       "  </tbody>\n",
       "</table>\n",
       "<p>1 rows × 785 columns</p>\n",
       "</div>"
      ],
      "text/plain": [
       "   pixel1  pixel2  pixel3  pixel4  pixel5  pixel6  pixel7  pixel8  pixel9   \n",
       "0     0.0     0.0     0.0     0.0     0.0     0.0     0.0     0.0     0.0  \\\n",
       "\n",
       "   pixel10  ...  pixel776  pixel777  pixel778  pixel779  pixel780  pixel781   \n",
       "0      0.0  ...       0.0       0.0       0.0       0.0       0.0       0.0  \\\n",
       "\n",
       "   pixel782  pixel783  pixel784  class  \n",
       "0       0.0       0.0       0.0   Boot  \n",
       "\n",
       "[1 rows x 785 columns]"
      ]
     },
     "execution_count": 166,
     "metadata": {},
     "output_type": "execute_result"
    }
   ],
   "source": [
    "class_labels = {\n",
    "    0: \"T-shirt / Top\",\n",
    "    1: \"Trouser\",\n",
    "    2: \"Pullover\",\n",
    "    3: \"Dress\",\n",
    "    4: \"Coat\",\n",
    "    5: \"Sandal\",\n",
    "    6: \"Shirt\",\n",
    "    7: \"Sneaker\",\n",
    "    8: \"Bag\",\n",
    "    9: \"Boot\"\n",
    "}\n",
    "\n",
    "# Convert the 'class' column to a regular column\n",
    "df['class'] = df['class'].astype(int)\n",
    "\n",
    "# Map the class labels to class names without getting NA values\n",
    "df['class'] = df['class'].map(class_labels)\n",
    "\n",
    "# Convert the 'class' column back to a categorical column\n",
    "df['class'] = df['class'].astype('category')\n",
    "\n",
    "df.head(1)"
   ]
  },
  {
   "attachments": {},
   "cell_type": "markdown",
   "metadata": {},
   "source": [
    "From here, we can see that we have 7,000 of each type of item."
   ]
  },
  {
   "cell_type": "code",
   "execution_count": 167,
   "metadata": {},
   "outputs": [
    {
     "data": {
      "text/plain": [
       "class\n",
       "Bag              7000\n",
       "Boot             7000\n",
       "Coat             7000\n",
       "Dress            7000\n",
       "Pullover         7000\n",
       "Sandal           7000\n",
       "Shirt            7000\n",
       "Sneaker          7000\n",
       "T-shirt / Top    7000\n",
       "Trouser          7000\n",
       "Name: count, dtype: int64"
      ]
     },
     "execution_count": 167,
     "metadata": {},
     "output_type": "execute_result"
    }
   ],
   "source": [
    "df['class'].value_counts()"
   ]
  },
  {
   "attachments": {},
   "cell_type": "markdown",
   "metadata": {},
   "source": [
    "### Image Maker Function\n",
    "This function can be used to convert the pixel data into a black and white image by inserting the index number (0 - 70,000), the dataframe, and which class type."
   ]
  },
  {
   "cell_type": "code",
   "execution_count": 168,
   "metadata": {},
   "outputs": [],
   "source": [
    "def image_maker(index, df, class_=None):\n",
    "    if class_ is not None:\n",
    "        # Filter the DataFrame based on the provided class value\n",
    "        df = df[df['class'] == class_].reset_index(drop=True)\n",
    "    \n",
    "    # Check if the index is within the valid range of the filtered DataFrame\n",
    "    if index < 0 or index >= len(df):\n",
    "        print(\"Invalid index\")\n",
    "        return\n",
    "    \n",
    "    # Access the image data and corresponding label\n",
    "    image = df.iloc[index, :-1].astype(float)\n",
    "    label = df.iloc[index, -1]\n",
    "\n",
    "    # Reshape the image from a flattened array to its original shape (28x28 pixels)\n",
    "    image = image.values.reshape(28, 28)\n",
    "\n",
    "    # Get the category name from the DataFrame based on the label\n",
    "    category_name = df.iloc[index, -1]\n",
    "\n",
    "    # Display the image with the category name as the title\n",
    "    plt.imshow(image, cmap='gray')\n",
    "    plt.title(category_name)\n",
    "    plt.axis('off')\n",
    "    plt.show()"
   ]
  },
  {
   "attachments": {},
   "cell_type": "markdown",
   "metadata": {},
   "source": [
    "### Example Image"
   ]
  },
  {
   "cell_type": "code",
   "execution_count": 169,
   "metadata": {},
   "outputs": [
    {
     "data": {
      "image/png": "[encoded data removed]",
      "text/plain": [
       "<Figure size 640x480 with 1 Axes>"
      ]
     },
     "metadata": {},
     "output_type": "display_data"
    }
   ],
   "source": [
    "image_maker(1000, df, 'Bag')"
   ]
  },
  {
   "attachments": {},
   "cell_type": "markdown",
   "metadata": {},
   "source": [
    "## Merging Groups\n",
    "From the following images, we can see an obvious problem: The resolution of the images is too low, meaning that even for a human, it's difficult to be 100% confident how to classify an item."
   ]
  },
  {
   "cell_type": "code",
   "execution_count": 170,
   "metadata": {},
   "outputs": [
    {
     "data": {
      "image/png": "[encoded data removed]",
      "text/plain": [
       "<Figure size 640x480 with 1 Axes>"
      ]
     },
     "metadata": {},
     "output_type": "display_data"
    },
    {
     "data": {
      "image/png": "[encoded data removed]",
      "text/plain": [
       "<Figure size 640x480 with 1 Axes>"
      ]
     },
     "metadata": {},
     "output_type": "display_data"
    }
   ],
   "source": [
    "image_maker(1000, df, 'Pullover')\n",
    "image_maker(1000, df, 'Dress')"
   ]
  },
  {
   "cell_type": "code",
   "execution_count": 171,
   "metadata": {},
   "outputs": [
    {
     "data": {
      "image/png": "[encoded data removed]",
      "text/plain": [
       "<Figure size 640x480 with 1 Axes>"
      ]
     },
     "metadata": {},
     "output_type": "display_data"
    },
    {
     "data": {
      "image/png": "[encoded data removed]",
      "text/plain": [
       "<Figure size 640x480 with 1 Axes>"
      ]
     },
     "metadata": {},
     "output_type": "display_data"
    }
   ],
   "source": [
    "image_maker(800, df, 'Sneaker')\n",
    "image_maker(900, df, 'Sandal')"
   ]
  },
  {
   "cell_type": "code",
   "execution_count": 172,
   "metadata": {},
   "outputs": [
    {
     "data": {
      "image/png": "[encoded data removed]",
      "text/plain": [
       "<Figure size 640x480 with 1 Axes>"
      ]
     },
     "metadata": {},
     "output_type": "display_data"
    }
   ],
   "source": [
    "image_maker(900, df, 'Dress')"
   ]
  },
  {
   "attachments": {},
   "cell_type": "markdown",
   "metadata": {},
   "source": [
    "Because these images are so similar, we have to merge the groups.\n",
    "- **Boot**, **Sneaker**, **Sandal** will mearge to **Footwear**\n",
    "- **Coat**, **Pullover**, **T-shirt / Top** , Shirt will merge to **Top**\n",
    "- **Bag**, **Dress**, and **Trouser** will remain the same."
   ]
  },
  {
   "cell_type": "code",
   "execution_count": 173,
   "metadata": {},
   "outputs": [
    {
     "data": {
      "text/plain": [
       "class\n",
       "Bag              7000\n",
       "Boot             7000\n",
       "Coat             7000\n",
       "Dress            7000\n",
       "Pullover         7000\n",
       "Sandal           7000\n",
       "Shirt            7000\n",
       "Sneaker          7000\n",
       "T-shirt / Top    7000\n",
       "Trouser          7000\n",
       "Name: count, dtype: int64"
      ]
     },
     "execution_count": 173,
     "metadata": {},
     "output_type": "execute_result"
    }
   ],
   "source": [
    "df['class'].value_counts()"
   ]
  },
  {
   "cell_type": "code",
   "execution_count": 174,
   "metadata": {},
   "outputs": [],
   "source": [
    "new_labels = {\n",
    "    'Boot': \"Footwear\",\n",
    "    'Sneaker': \"Footwear\",\n",
    "    'Sandal': \"Footwear\",\n",
    "    'Coat': \"Top\",\n",
    "    'Pullover': \"Top\",\n",
    "    'T-shirt / Top': \"Top\",\n",
    "    'Shirt': 'Top',\n",
    "    'Bag': 'Bag',\n",
    "    'Dress': 'Dress',\n",
    "    'Trouser': 'Trouser'\n",
    "}\n",
    "\n",
    "# Map the class labels to class names.\n",
    "df['class'] = df['class'].map(new_labels)"
   ]
  },
  {
   "attachments": {},
   "cell_type": "markdown",
   "metadata": {},
   "source": [
    "Now we have the five new groups."
   ]
  },
  {
   "cell_type": "code",
   "execution_count": 175,
   "metadata": {},
   "outputs": [
    {
     "data": {
      "text/plain": [
       "class\n",
       "Top         28000\n",
       "Footwear    21000\n",
       "Dress        7000\n",
       "Trouser      7000\n",
       "Bag          7000\n",
       "Name: count, dtype: int64"
      ]
     },
     "execution_count": 175,
     "metadata": {},
     "output_type": "execute_result"
    }
   ],
   "source": [
    "df['class'].value_counts()"
   ]
  },
  {
   "cell_type": "code",
   "execution_count": 176,
   "metadata": {},
   "outputs": [
    {
     "data": {
      "text/plain": [
       "class\n",
       "False    70000\n",
       "Name: count, dtype: int64"
      ]
     },
     "execution_count": 176,
     "metadata": {},
     "output_type": "execute_result"
    }
   ],
   "source": [
    "df['class'].isna().value_counts()"
   ]
  },
  {
   "cell_type": "code",
   "execution_count": 177,
   "metadata": {},
   "outputs": [
    {
     "data": {
      "text/html": [
       "<div>\n",
       "<style scoped>\n",
       "    .dataframe tbody tr th:only-of-type {\n",
       "        vertical-align: middle;\n",
       "    }\n",
       "\n",
       "    .dataframe tbody tr th {\n",
       "        vertical-align: top;\n",
       "    }\n",
       "\n",
       "    .dataframe thead th {\n",
       "        text-align: right;\n",
       "    }\n",
       "</style>\n",
       "<table border=\"1\" class=\"dataframe\">\n",
       "  <thead>\n",
       "    <tr style=\"text-align: right;\">\n",
       "      <th></th>\n",
       "      <th>pixel1</th>\n",
       "      <th>pixel2</th>\n",
       "      <th>pixel3</th>\n",
       "      <th>pixel4</th>\n",
       "      <th>pixel5</th>\n",
       "      <th>pixel6</th>\n",
       "      <th>pixel7</th>\n",
       "      <th>pixel8</th>\n",
       "      <th>pixel9</th>\n",
       "      <th>pixel10</th>\n",
       "      <th>...</th>\n",
       "      <th>pixel776</th>\n",
       "      <th>pixel777</th>\n",
       "      <th>pixel778</th>\n",
       "      <th>pixel779</th>\n",
       "      <th>pixel780</th>\n",
       "      <th>pixel781</th>\n",
       "      <th>pixel782</th>\n",
       "      <th>pixel783</th>\n",
       "      <th>pixel784</th>\n",
       "      <th>class</th>\n",
       "    </tr>\n",
       "  </thead>\n",
       "  <tbody>\n",
       "    <tr>\n",
       "      <th>17250</th>\n",
       "      <td>0.0</td>\n",
       "      <td>0.0</td>\n",
       "      <td>0.0</td>\n",
       "      <td>0.0</td>\n",
       "      <td>0.0</td>\n",
       "      <td>0.0</td>\n",
       "      <td>0.0</td>\n",
       "      <td>0.0</td>\n",
       "      <td>0.0</td>\n",
       "      <td>0.0</td>\n",
       "      <td>...</td>\n",
       "      <td>0.0</td>\n",
       "      <td>0.0</td>\n",
       "      <td>130.0</td>\n",
       "      <td>202.0</td>\n",
       "      <td>110.0</td>\n",
       "      <td>0.0</td>\n",
       "      <td>0.0</td>\n",
       "      <td>0.0</td>\n",
       "      <td>0.0</td>\n",
       "      <td>Top</td>\n",
       "    </tr>\n",
       "    <tr>\n",
       "      <th>30433</th>\n",
       "      <td>0.0</td>\n",
       "      <td>0.0</td>\n",
       "      <td>0.0</td>\n",
       "      <td>0.0</td>\n",
       "      <td>0.0</td>\n",
       "      <td>0.0</td>\n",
       "      <td>0.0</td>\n",
       "      <td>0.0</td>\n",
       "      <td>0.0</td>\n",
       "      <td>0.0</td>\n",
       "      <td>...</td>\n",
       "      <td>112.0</td>\n",
       "      <td>112.0</td>\n",
       "      <td>105.0</td>\n",
       "      <td>142.0</td>\n",
       "      <td>15.0</td>\n",
       "      <td>0.0</td>\n",
       "      <td>0.0</td>\n",
       "      <td>0.0</td>\n",
       "      <td>0.0</td>\n",
       "      <td>Bag</td>\n",
       "    </tr>\n",
       "    <tr>\n",
       "      <th>68668</th>\n",
       "      <td>0.0</td>\n",
       "      <td>0.0</td>\n",
       "      <td>0.0</td>\n",
       "      <td>0.0</td>\n",
       "      <td>0.0</td>\n",
       "      <td>0.0</td>\n",
       "      <td>0.0</td>\n",
       "      <td>0.0</td>\n",
       "      <td>0.0</td>\n",
       "      <td>0.0</td>\n",
       "      <td>...</td>\n",
       "      <td>0.0</td>\n",
       "      <td>0.0</td>\n",
       "      <td>0.0</td>\n",
       "      <td>0.0</td>\n",
       "      <td>0.0</td>\n",
       "      <td>0.0</td>\n",
       "      <td>0.0</td>\n",
       "      <td>0.0</td>\n",
       "      <td>0.0</td>\n",
       "      <td>Footwear</td>\n",
       "    </tr>\n",
       "    <tr>\n",
       "      <th>54840</th>\n",
       "      <td>0.0</td>\n",
       "      <td>0.0</td>\n",
       "      <td>0.0</td>\n",
       "      <td>0.0</td>\n",
       "      <td>0.0</td>\n",
       "      <td>0.0</td>\n",
       "      <td>0.0</td>\n",
       "      <td>0.0</td>\n",
       "      <td>0.0</td>\n",
       "      <td>151.0</td>\n",
       "      <td>...</td>\n",
       "      <td>4.0</td>\n",
       "      <td>3.0</td>\n",
       "      <td>3.0</td>\n",
       "      <td>0.0</td>\n",
       "      <td>0.0</td>\n",
       "      <td>0.0</td>\n",
       "      <td>0.0</td>\n",
       "      <td>0.0</td>\n",
       "      <td>0.0</td>\n",
       "      <td>Top</td>\n",
       "    </tr>\n",
       "    <tr>\n",
       "      <th>3954</th>\n",
       "      <td>0.0</td>\n",
       "      <td>0.0</td>\n",
       "      <td>0.0</td>\n",
       "      <td>0.0</td>\n",
       "      <td>0.0</td>\n",
       "      <td>0.0</td>\n",
       "      <td>0.0</td>\n",
       "      <td>0.0</td>\n",
       "      <td>0.0</td>\n",
       "      <td>24.0</td>\n",
       "      <td>...</td>\n",
       "      <td>0.0</td>\n",
       "      <td>0.0</td>\n",
       "      <td>0.0</td>\n",
       "      <td>0.0</td>\n",
       "      <td>0.0</td>\n",
       "      <td>0.0</td>\n",
       "      <td>0.0</td>\n",
       "      <td>0.0</td>\n",
       "      <td>0.0</td>\n",
       "      <td>Dress</td>\n",
       "    </tr>\n",
       "    <tr>\n",
       "      <th>12803</th>\n",
       "      <td>0.0</td>\n",
       "      <td>0.0</td>\n",
       "      <td>0.0</td>\n",
       "      <td>0.0</td>\n",
       "      <td>0.0</td>\n",
       "      <td>0.0</td>\n",
       "      <td>0.0</td>\n",
       "      <td>0.0</td>\n",
       "      <td>0.0</td>\n",
       "      <td>0.0</td>\n",
       "      <td>...</td>\n",
       "      <td>0.0</td>\n",
       "      <td>0.0</td>\n",
       "      <td>0.0</td>\n",
       "      <td>0.0</td>\n",
       "      <td>2.0</td>\n",
       "      <td>0.0</td>\n",
       "      <td>0.0</td>\n",
       "      <td>0.0</td>\n",
       "      <td>0.0</td>\n",
       "      <td>Top</td>\n",
       "    </tr>\n",
       "    <tr>\n",
       "      <th>40735</th>\n",
       "      <td>0.0</td>\n",
       "      <td>0.0</td>\n",
       "      <td>0.0</td>\n",
       "      <td>0.0</td>\n",
       "      <td>0.0</td>\n",
       "      <td>0.0</td>\n",
       "      <td>0.0</td>\n",
       "      <td>2.0</td>\n",
       "      <td>0.0</td>\n",
       "      <td>0.0</td>\n",
       "      <td>...</td>\n",
       "      <td>0.0</td>\n",
       "      <td>0.0</td>\n",
       "      <td>0.0</td>\n",
       "      <td>98.0</td>\n",
       "      <td>13.0</td>\n",
       "      <td>0.0</td>\n",
       "      <td>0.0</td>\n",
       "      <td>0.0</td>\n",
       "      <td>0.0</td>\n",
       "      <td>Top</td>\n",
       "    </tr>\n",
       "    <tr>\n",
       "      <th>66933</th>\n",
       "      <td>0.0</td>\n",
       "      <td>0.0</td>\n",
       "      <td>0.0</td>\n",
       "      <td>0.0</td>\n",
       "      <td>0.0</td>\n",
       "      <td>0.0</td>\n",
       "      <td>0.0</td>\n",
       "      <td>0.0</td>\n",
       "      <td>4.0</td>\n",
       "      <td>0.0</td>\n",
       "      <td>...</td>\n",
       "      <td>0.0</td>\n",
       "      <td>0.0</td>\n",
       "      <td>0.0</td>\n",
       "      <td>182.0</td>\n",
       "      <td>185.0</td>\n",
       "      <td>114.0</td>\n",
       "      <td>0.0</td>\n",
       "      <td>0.0</td>\n",
       "      <td>0.0</td>\n",
       "      <td>Top</td>\n",
       "    </tr>\n",
       "    <tr>\n",
       "      <th>51984</th>\n",
       "      <td>0.0</td>\n",
       "      <td>0.0</td>\n",
       "      <td>0.0</td>\n",
       "      <td>0.0</td>\n",
       "      <td>0.0</td>\n",
       "      <td>0.0</td>\n",
       "      <td>0.0</td>\n",
       "      <td>0.0</td>\n",
       "      <td>0.0</td>\n",
       "      <td>0.0</td>\n",
       "      <td>...</td>\n",
       "      <td>0.0</td>\n",
       "      <td>0.0</td>\n",
       "      <td>0.0</td>\n",
       "      <td>0.0</td>\n",
       "      <td>0.0</td>\n",
       "      <td>0.0</td>\n",
       "      <td>0.0</td>\n",
       "      <td>0.0</td>\n",
       "      <td>0.0</td>\n",
       "      <td>Footwear</td>\n",
       "    </tr>\n",
       "    <tr>\n",
       "      <th>60520</th>\n",
       "      <td>0.0</td>\n",
       "      <td>0.0</td>\n",
       "      <td>0.0</td>\n",
       "      <td>0.0</td>\n",
       "      <td>0.0</td>\n",
       "      <td>0.0</td>\n",
       "      <td>0.0</td>\n",
       "      <td>0.0</td>\n",
       "      <td>0.0</td>\n",
       "      <td>55.0</td>\n",
       "      <td>...</td>\n",
       "      <td>0.0</td>\n",
       "      <td>0.0</td>\n",
       "      <td>103.0</td>\n",
       "      <td>117.0</td>\n",
       "      <td>109.0</td>\n",
       "      <td>43.0</td>\n",
       "      <td>0.0</td>\n",
       "      <td>0.0</td>\n",
       "      <td>0.0</td>\n",
       "      <td>Top</td>\n",
       "    </tr>\n",
       "  </tbody>\n",
       "</table>\n",
       "<p>10 rows × 785 columns</p>\n",
       "</div>"
      ],
      "text/plain": [
       "       pixel1  pixel2  pixel3  pixel4  pixel5  pixel6  pixel7  pixel8  pixel9   \n",
       "17250     0.0     0.0     0.0     0.0     0.0     0.0     0.0     0.0     0.0  \\\n",
       "30433     0.0     0.0     0.0     0.0     0.0     0.0     0.0     0.0     0.0   \n",
       "68668     0.0     0.0     0.0     0.0     0.0     0.0     0.0     0.0     0.0   \n",
       "54840     0.0     0.0     0.0     0.0     0.0     0.0     0.0     0.0     0.0   \n",
       "3954      0.0     0.0     0.0     0.0     0.0     0.0     0.0     0.0     0.0   \n",
       "12803     0.0     0.0     0.0     0.0     0.0     0.0     0.0     0.0     0.0   \n",
       "40735     0.0     0.0     0.0     0.0     0.0     0.0     0.0     2.0     0.0   \n",
       "66933     0.0     0.0     0.0     0.0     0.0     0.0     0.0     0.0     4.0   \n",
       "51984     0.0     0.0     0.0     0.0     0.0     0.0     0.0     0.0     0.0   \n",
       "60520     0.0     0.0     0.0     0.0     0.0     0.0     0.0     0.0     0.0   \n",
       "\n",
       "       pixel10  ...  pixel776  pixel777  pixel778  pixel779  pixel780   \n",
       "17250      0.0  ...       0.0       0.0     130.0     202.0     110.0  \\\n",
       "30433      0.0  ...     112.0     112.0     105.0     142.0      15.0   \n",
       "68668      0.0  ...       0.0       0.0       0.0       0.0       0.0   \n",
       "54840    151.0  ...       4.0       3.0       3.0       0.0       0.0   \n",
       "3954      24.0  ...       0.0       0.0       0.0       0.0       0.0   \n",
       "12803      0.0  ...       0.0       0.0       0.0       0.0       2.0   \n",
       "40735      0.0  ...       0.0       0.0       0.0      98.0      13.0   \n",
       "66933      0.0  ...       0.0       0.0       0.0     182.0     185.0   \n",
       "51984      0.0  ...       0.0       0.0       0.0       0.0       0.0   \n",
       "60520     55.0  ...       0.0       0.0     103.0     117.0     109.0   \n",
       "\n",
       "       pixel781  pixel782  pixel783  pixel784     class  \n",
       "17250       0.0       0.0       0.0       0.0       Top  \n",
       "30433       0.0       0.0       0.0       0.0       Bag  \n",
       "68668       0.0       0.0       0.0       0.0  Footwear  \n",
       "54840       0.0       0.0       0.0       0.0       Top  \n",
       "3954        0.0       0.0       0.0       0.0     Dress  \n",
       "12803       0.0       0.0       0.0       0.0       Top  \n",
       "40735       0.0       0.0       0.0       0.0       Top  \n",
       "66933     114.0       0.0       0.0       0.0       Top  \n",
       "51984       0.0       0.0       0.0       0.0  Footwear  \n",
       "60520      43.0       0.0       0.0       0.0       Top  \n",
       "\n",
       "[10 rows x 785 columns]"
      ]
     },
     "execution_count": 177,
     "metadata": {},
     "output_type": "execute_result"
    }
   ],
   "source": [
    "df.sample(10)"
   ]
  },
  {
   "attachments": {},
   "cell_type": "markdown",
   "metadata": {},
   "source": [
    "# Model Building"
   ]
  },
  {
   "attachments": {},
   "cell_type": "markdown",
   "metadata": {},
   "source": [
    "## Imports"
   ]
  },
  {
   "cell_type": "code",
   "execution_count": 188,
   "metadata": {},
   "outputs": [],
   "source": [
    "# Model Selection\n",
    "from sklearn.model_selection import train_test_split\n",
    "from sklearn.model_selection import GridSearchCV\n",
    "\n",
    "# Models Considered\n",
    "from sklearn.ensemble import RandomForestClassifier\n",
    "from sklearn.linear_model import LogisticRegression\n",
    "from sklearn.neural_network import MLPClassifier\n",
    "from sklearn.svm import SVC\n",
    "from sklearn.neighbors import KNeighborsClassifier\n",
    "\n",
    "# Preprocessing\n",
    "from sklearn.preprocessing import LabelEncoder\n",
    "from sklearn.preprocessing import MinMaxScaler\n",
    "\n",
    "# Pipeline\n",
    "from sklearn.pipeline import make_pipeline\n",
    "\n",
    "# Reporting\n",
    "from sklearn.metrics import confusion_matrix, classification_report"
   ]
  },
  {
   "attachments": {},
   "cell_type": "markdown",
   "metadata": {},
   "source": [
    "## Feature Selection\n",
    "Not much to consider here.\n",
    "- The features will be the 784 pixels of the image.\n",
    "- The target will be the type of clothing."
   ]
  },
  {
   "cell_type": "code",
   "execution_count": 179,
   "metadata": {},
   "outputs": [],
   "source": [
    "X = df.copy()\n",
    "y = X.pop('class')"
   ]
  },
  {
   "attachments": {},
   "cell_type": "markdown",
   "metadata": {},
   "source": [
    "## Preliminary Model Selection\n",
    "There are a lot of images in this dataset and this is not a powerful laptop, so I'm going to eliminate the obviously bad models by using a training set only 10% of the total dataset size (7000 items)."
   ]
  },
  {
   "cell_type": "code",
   "execution_count": 180,
   "metadata": {},
   "outputs": [
    {
     "name": "stdout",
     "output_type": "stream",
     "text": [
      "Fitting 3 folds for each of 1 candidates, totalling 3 fits\n",
      "[CV 1/3] END ..................................., score=0.957 total time=   4.3s\n",
      "[CV 2/3] END ..................................., score=0.961 total time=   1.4s\n",
      "[CV 3/3] END ..................................., score=0.962 total time=   1.6s\n",
      "RandomForestClassifier(n_jobs=-1) ACCURACY: 96.02861615804339%\n",
      "\n",
      "Fitting 3 folds for each of 1 candidates, totalling 3 fits\n",
      "[CV 1/3] END ..................................., score=0.950 total time=   2.1s\n",
      "[CV 2/3] END ..................................., score=0.954 total time=   2.1s\n",
      "[CV 3/3] END ..................................., score=0.957 total time=   2.1s\n",
      "LogisticRegression(n_jobs=-1) ACCURACY: 95.35719572131312%\n",
      "\n",
      "Fitting 3 folds for each of 1 candidates, totalling 3 fits\n",
      "[CV 1/3] END ..................................., score=0.957 total time=  13.4s\n",
      "[CV 2/3] END ..................................., score=0.963 total time=  15.5s\n",
      "[CV 3/3] END ..................................., score=0.968 total time=  15.2s\n",
      "MLPClassifier(max_iter=500) ACCURACY: 96.27150799973506%\n",
      "\n",
      "Fitting 3 folds for each of 1 candidates, totalling 3 fits\n",
      "[CV 1/3] END ..................................., score=0.961 total time=   2.9s\n",
      "[CV 2/3] END ..................................., score=0.964 total time=   2.8s\n",
      "[CV 3/3] END ..................................., score=0.962 total time=   2.5s\n",
      "SVC() ACCURACY: 96.24287127320062%\n",
      "\n",
      "Fitting 3 folds for each of 1 candidates, totalling 3 fits\n",
      "[CV 1/3] END ..................................., score=0.946 total time=   0.2s\n",
      "[CV 2/3] END ..................................., score=0.954 total time=   0.2s\n",
      "[CV 3/3] END ..................................., score=0.955 total time=   0.2s\n",
      "KNeighborsClassifier() ACCURACY: 95.1572283615495%\n",
      "\n"
     ]
    }
   ],
   "source": [
    "X_train, X_test, y_train, y_test = train_test_split(X, y, train_size=0.1)\n",
    "\n",
    "classifiers = [RandomForestClassifier(n_jobs=-1), \n",
    "               LogisticRegression(n_jobs=-1),  \n",
    "               MLPClassifier(max_iter=500), \n",
    "               SVC(),\n",
    "               KNeighborsClassifier()]\n",
    "\n",
    "for classifier in classifiers:\n",
    "\n",
    "    pipe = make_pipeline(MinMaxScaler(), \n",
    "                         classifier)\n",
    "    \n",
    "    grid = GridSearchCV(pipe, \n",
    "                        cv=3, \n",
    "                        scoring='accuracy', \n",
    "                        param_grid={},\n",
    "                        verbose=3)\n",
    "    \n",
    "    grid.fit(X_train, y_train)\n",
    "    score = grid.best_score_\n",
    "\n",
    "    print(f\"{classifier} ACCURACY: {score * 100}%\\n\")"
   ]
  },
  {
   "attachments": {},
   "cell_type": "markdown",
   "metadata": {},
   "source": [
    "## Preliminary Model Selection II\n",
    "Though **MLPClassifier** had the highest score, it was very computatinally expensive. Trying again with **SVC** and **RandomForestClassifier** which also have a high accuracy, but require less computational power.\n",
    "\n",
    "Increasing training size to 0.25."
   ]
  },
  {
   "cell_type": "code",
   "execution_count": 181,
   "metadata": {},
   "outputs": [
    {
     "name": "stdout",
     "output_type": "stream",
     "text": [
      "Fitting 3 folds for each of 1 candidates, totalling 3 fits\n",
      "[CV 1/3] END ..................................., score=0.965 total time=   5.1s\n",
      "[CV 2/3] END ..................................., score=0.965 total time=   3.5s\n",
      "[CV 3/3] END ..................................., score=0.964 total time=   3.4s\n",
      "RandomForestClassifier(n_jobs=-1) ACCURACY: 96.44571295645612%\n",
      "\n",
      "Fitting 3 folds for each of 1 candidates, totalling 3 fits\n",
      "[CV 1/3] END ..................................., score=0.963 total time=  13.6s\n",
      "[CV 2/3] END ..................................., score=0.963 total time=  13.0s\n",
      "[CV 3/3] END ..................................., score=0.968 total time=  14.1s\n",
      "SVC() ACCURACY: 96.47429287452502%\n",
      "\n"
     ]
    }
   ],
   "source": [
    "X_train, X_test, y_train, y_test = train_test_split(X, y, train_size=0.25)\n",
    "\n",
    "classifiers = [RandomForestClassifier(n_jobs=-1), \n",
    "               SVC()]\n",
    "\n",
    "for classifier in classifiers:\n",
    "\n",
    "    pipe = make_pipeline(MinMaxScaler(), \n",
    "                         classifier)\n",
    "    \n",
    "    grid = GridSearchCV(pipe, \n",
    "                        cv=3, \n",
    "                        scoring='accuracy', \n",
    "                        param_grid={},\n",
    "                        verbose=3)\n",
    "    \n",
    "    grid.fit(X_train, y_train)\n",
    "    score = grid.best_score_\n",
    "\n",
    "    print(f\"{classifier} ACCURACY: {score * 100}%\\n\")"
   ]
  },
  {
   "attachments": {},
   "cell_type": "markdown",
   "metadata": {},
   "source": [
    "## Hyper Parameter Tuning with Random Forest\n",
    "The results between Random Forest and SVC  are pretty similar, but Random Forest is way faster."
   ]
  },
  {
   "cell_type": "code",
   "execution_count": 182,
   "metadata": {},
   "outputs": [
    {
     "name": "stdout",
     "output_type": "stream",
     "text": [
      "Fitting 3 folds for each of 6 candidates, totalling 18 fits\n",
      "[CV 1/3] END randomforestclassifier__max_depth=5, randomforestclassifier__min_samples_split=2, randomforestclassifier__n_estimators=100;, score=0.935 total time=   4.1s\n",
      "[CV 2/3] END randomforestclassifier__max_depth=5, randomforestclassifier__min_samples_split=2, randomforestclassifier__n_estimators=100;, score=0.930 total time=   3.9s\n",
      "[CV 3/3] END randomforestclassifier__max_depth=5, randomforestclassifier__min_samples_split=2, randomforestclassifier__n_estimators=100;, score=0.933 total time=   3.9s\n",
      "[CV 1/3] END randomforestclassifier__max_depth=5, randomforestclassifier__min_samples_split=5, randomforestclassifier__n_estimators=100;, score=0.934 total time=   3.9s\n",
      "[CV 2/3] END randomforestclassifier__max_depth=5, randomforestclassifier__min_samples_split=5, randomforestclassifier__n_estimators=100;, score=0.931 total time=   3.9s\n",
      "[CV 3/3] END randomforestclassifier__max_depth=5, randomforestclassifier__min_samples_split=5, randomforestclassifier__n_estimators=100;, score=0.933 total time=   4.1s\n",
      "[CV 1/3] END randomforestclassifier__max_depth=5, randomforestclassifier__min_samples_split=10, randomforestclassifier__n_estimators=100;, score=0.935 total time=   3.9s\n",
      "[CV 2/3] END randomforestclassifier__max_depth=5, randomforestclassifier__min_samples_split=10, randomforestclassifier__n_estimators=100;, score=0.932 total time=   3.9s\n",
      "[CV 3/3] END randomforestclassifier__max_depth=5, randomforestclassifier__min_samples_split=10, randomforestclassifier__n_estimators=100;, score=0.932 total time=   3.9s\n",
      "[CV 1/3] END randomforestclassifier__max_depth=10, randomforestclassifier__min_samples_split=2, randomforestclassifier__n_estimators=100;, score=0.958 total time=   8.0s\n",
      "[CV 2/3] END randomforestclassifier__max_depth=10, randomforestclassifier__min_samples_split=2, randomforestclassifier__n_estimators=100;, score=0.957 total time=   8.0s\n",
      "[CV 3/3] END randomforestclassifier__max_depth=10, randomforestclassifier__min_samples_split=2, randomforestclassifier__n_estimators=100;, score=0.962 total time=   8.1s\n",
      "[CV 1/3] END randomforestclassifier__max_depth=10, randomforestclassifier__min_samples_split=5, randomforestclassifier__n_estimators=100;, score=0.958 total time=   8.2s\n",
      "[CV 2/3] END randomforestclassifier__max_depth=10, randomforestclassifier__min_samples_split=5, randomforestclassifier__n_estimators=100;, score=0.959 total time=   8.0s\n",
      "[CV 3/3] END randomforestclassifier__max_depth=10, randomforestclassifier__min_samples_split=5, randomforestclassifier__n_estimators=100;, score=0.961 total time=   8.0s\n",
      "[CV 1/3] END randomforestclassifier__max_depth=10, randomforestclassifier__min_samples_split=10, randomforestclassifier__n_estimators=100;, score=0.957 total time=   8.0s\n",
      "[CV 2/3] END randomforestclassifier__max_depth=10, randomforestclassifier__min_samples_split=10, randomforestclassifier__n_estimators=100;, score=0.958 total time=   8.2s\n",
      "[CV 3/3] END randomforestclassifier__max_depth=10, randomforestclassifier__min_samples_split=10, randomforestclassifier__n_estimators=100;, score=0.961 total time=   8.0s\n",
      "Best Score: 0.9591429221784415\n",
      "Best Params: {'randomforestclassifier__max_depth': 10, 'randomforestclassifier__min_samples_split': 5, 'randomforestclassifier__n_estimators': 100}\n"
     ]
    }
   ],
   "source": [
    "param_grid = {\n",
    "    'randomforestclassifier__n_estimators': [100],  # Number of trees in the forest\n",
    "    'randomforestclassifier__max_depth': [5, 10],  # Maximum depth of each tree\n",
    "    'randomforestclassifier__min_samples_split': [2, 5, 10],  # Minimum number of samples required to split an internal node\n",
    "}\n",
    "\n",
    "pipe = make_pipeline(MinMaxScaler(), RandomForestClassifier())\n",
    "grid = GridSearchCV(pipe, param_grid=param_grid, scoring='accuracy', cv=3, verbose=3)\n",
    "grid.fit(X_train, y_train)\n",
    "\n",
    "print(\"Best Score:\", grid.best_score_)\n",
    "print(\"Best Params:\", grid.best_params_)"
   ]
  },
  {
   "attachments": {},
   "cell_type": "markdown",
   "metadata": {},
   "source": [
    "## Training Results"
   ]
  },
  {
   "cell_type": "code",
   "execution_count": 185,
   "metadata": {},
   "outputs": [],
   "source": [
    "# Full 80% of Data (had to slowly increase due to the computing power problem)\n",
    "X_train, X_test, y_train, y_test = train_test_split(X, y, train_size=0.80)"
   ]
  },
  {
   "cell_type": "code",
   "execution_count": 186,
   "metadata": {},
   "outputs": [],
   "source": [
    "best_model = make_pipeline(MinMaxScaler(), RandomForestClassifier(max_depth=10, min_samples_split=5, n_estimators=100))\n",
    "best_model.fit(X_train, y_train)\n",
    "y_pred = best_model.predict(X_train)"
   ]
  },
  {
   "cell_type": "code",
   "execution_count": 189,
   "metadata": {},
   "outputs": [
    {
     "name": "stdout",
     "output_type": "stream",
     "text": [
      "Confusion Matrix:\n",
      "[[ 5385     7    25   135     0]\n",
      " [    1  4784     0   869     0]\n",
      " [    9     0 16785     4     0]\n",
      " [   27   269     1 22073     2]\n",
      " [    1   105     1   114  5403]]\n"
     ]
    }
   ],
   "source": [
    "# Calculate the confusion matrix\n",
    "cm = confusion_matrix(y_train, y_pred)\n",
    "\n",
    "print(\"Confusion Matrix:\")\n",
    "print(cm)"
   ]
  },
  {
   "cell_type": "code",
   "execution_count": 190,
   "metadata": {},
   "outputs": [
    {
     "name": "stdout",
     "output_type": "stream",
     "text": [
      "Classification Report:\n",
      "              precision    recall  f1-score   support\n",
      "\n",
      "         Bag       0.99      0.97      0.98      5552\n",
      "       Dress       0.93      0.85      0.88      5654\n",
      "    Footwear       1.00      1.00      1.00     16798\n",
      "         Top       0.95      0.99      0.97     22372\n",
      "     Trouser       1.00      0.96      0.98      5624\n",
      "\n",
      "    accuracy                           0.97     56000\n",
      "   macro avg       0.97      0.95      0.96     56000\n",
      "weighted avg       0.97      0.97      0.97     56000\n",
      "\n"
     ]
    }
   ],
   "source": [
    "# Print the classification report\n",
    "report = classification_report(y_train, y_pred)\n",
    "print(\"Classification Report:\")\n",
    "print(report)"
   ]
  },
  {
   "attachments": {},
   "cell_type": "markdown",
   "metadata": {},
   "source": [
    "## Test Results"
   ]
  },
  {
   "cell_type": "code",
   "execution_count": 192,
   "metadata": {},
   "outputs": [
    {
     "name": "stdout",
     "output_type": "stream",
     "text": [
      "Confusion Matrix:\n",
      "[[1421    0   10   17    0]\n",
      " [   0 1180    0  166    0]\n",
      " [   1    0 4198    3    0]\n",
      " [   4   43    0 5581    0]\n",
      " [   0   27    0   30 1319]]\n",
      "Classification Report:\n",
      "              precision    recall  f1-score   support\n",
      "\n",
      "         Bag       1.00      0.98      0.99      1448\n",
      "       Dress       0.94      0.88      0.91      1346\n",
      "    Footwear       1.00      1.00      1.00      4202\n",
      "         Top       0.96      0.99      0.98      5628\n",
      "     Trouser       1.00      0.96      0.98      1376\n",
      "\n",
      "    accuracy                           0.98     14000\n",
      "   macro avg       0.98      0.96      0.97     14000\n",
      "weighted avg       0.98      0.98      0.98     14000\n",
      "\n"
     ]
    }
   ],
   "source": [
    "best_model.fit(X_test, y_test)\n",
    "y_pred = best_model.predict(X_test)\n",
    "\n",
    "# Calculate the confusion matrix\n",
    "cm = confusion_matrix(y_test, y_pred)\n",
    "\n",
    "print(\"Confusion Matrix:\")\n",
    "print(cm)\n",
    "\n",
    "# Print the classification report\n",
    "report = classification_report(y_test, y_pred)\n",
    "print(\"Classification Report:\")\n",
    "print(report)"
   ]
  },
  {
   "attachments": {},
   "cell_type": "markdown",
   "metadata": {},
   "source": [
    "## Comparing Predicted vs. True Values"
   ]
  },
  {
   "cell_type": "code",
   "execution_count": 195,
   "metadata": {},
   "outputs": [
    {
     "data": {
      "text/html": [
       "<div>\n",
       "<style scoped>\n",
       "    .dataframe tbody tr th:only-of-type {\n",
       "        vertical-align: middle;\n",
       "    }\n",
       "\n",
       "    .dataframe tbody tr th {\n",
       "        vertical-align: top;\n",
       "    }\n",
       "\n",
       "    .dataframe thead th {\n",
       "        text-align: right;\n",
       "    }\n",
       "</style>\n",
       "<table border=\"1\" class=\"dataframe\">\n",
       "  <thead>\n",
       "    <tr style=\"text-align: right;\">\n",
       "      <th></th>\n",
       "      <th>Predicted</th>\n",
       "      <th>True</th>\n",
       "      <th>Probability</th>\n",
       "    </tr>\n",
       "  </thead>\n",
       "  <tbody>\n",
       "    <tr>\n",
       "      <th>49806</th>\n",
       "      <td>Top</td>\n",
       "      <td>Top</td>\n",
       "      <td>0.975124</td>\n",
       "    </tr>\n",
       "    <tr>\n",
       "      <th>18675</th>\n",
       "      <td>Top</td>\n",
       "      <td>Top</td>\n",
       "      <td>0.969732</td>\n",
       "    </tr>\n",
       "    <tr>\n",
       "      <th>37106</th>\n",
       "      <td>Footwear</td>\n",
       "      <td>Footwear</td>\n",
       "      <td>0.997452</td>\n",
       "    </tr>\n",
       "    <tr>\n",
       "      <th>33752</th>\n",
       "      <td>Bag</td>\n",
       "      <td>Bag</td>\n",
       "      <td>0.917783</td>\n",
       "    </tr>\n",
       "    <tr>\n",
       "      <th>44298</th>\n",
       "      <td>Trouser</td>\n",
       "      <td>Trouser</td>\n",
       "      <td>0.879992</td>\n",
       "    </tr>\n",
       "    <tr>\n",
       "      <th>...</th>\n",
       "      <td>...</td>\n",
       "      <td>...</td>\n",
       "      <td>...</td>\n",
       "    </tr>\n",
       "    <tr>\n",
       "      <th>12440</th>\n",
       "      <td>Top</td>\n",
       "      <td>Top</td>\n",
       "      <td>0.983173</td>\n",
       "    </tr>\n",
       "    <tr>\n",
       "      <th>26507</th>\n",
       "      <td>Top</td>\n",
       "      <td>Top</td>\n",
       "      <td>0.982983</td>\n",
       "    </tr>\n",
       "    <tr>\n",
       "      <th>45589</th>\n",
       "      <td>Top</td>\n",
       "      <td>Top</td>\n",
       "      <td>0.982983</td>\n",
       "    </tr>\n",
       "    <tr>\n",
       "      <th>26458</th>\n",
       "      <td>Footwear</td>\n",
       "      <td>Footwear</td>\n",
       "      <td>0.998151</td>\n",
       "    </tr>\n",
       "    <tr>\n",
       "      <th>62091</th>\n",
       "      <td>Bag</td>\n",
       "      <td>Bag</td>\n",
       "      <td>0.750233</td>\n",
       "    </tr>\n",
       "  </tbody>\n",
       "</table>\n",
       "<p>14000 rows × 3 columns</p>\n",
       "</div>"
      ],
      "text/plain": [
       "      Predicted      True  Probability\n",
       "49806       Top       Top     0.975124\n",
       "18675       Top       Top     0.969732\n",
       "37106  Footwear  Footwear     0.997452\n",
       "33752       Bag       Bag     0.917783\n",
       "44298   Trouser   Trouser     0.879992\n",
       "...         ...       ...          ...\n",
       "12440       Top       Top     0.983173\n",
       "26507       Top       Top     0.982983\n",
       "45589       Top       Top     0.982983\n",
       "26458  Footwear  Footwear     0.998151\n",
       "62091       Bag       Bag     0.750233\n",
       "\n",
       "[14000 rows x 3 columns]"
      ]
     },
     "execution_count": 195,
     "metadata": {},
     "output_type": "execute_result"
    }
   ],
   "source": [
    "# Get the predicted probabilities for each class\n",
    "proba = best_model.predict_proba(X_test)\n",
    "\n",
    "# Create a DataFrame with the predicted labels and probabilities\n",
    "predictions = pd.DataFrame(y_pred, columns=['Predicted'], index=y_test.index)\n",
    "predictions['True'] = y_test\n",
    "predictions['Probability'] = np.max(proba, axis=1)\n",
    "\n",
    "predictions"
   ]
  },
  {
   "cell_type": "code",
   "execution_count": 212,
   "metadata": {},
   "outputs": [],
   "source": [
    "incorrect_predictions = predictions.loc[predictions['Predicted'] != predictions['True']]"
   ]
  },
  {
   "cell_type": "code",
   "execution_count": 213,
   "metadata": {},
   "outputs": [
    {
     "data": {
      "text/html": [
       "<div>\n",
       "<style scoped>\n",
       "    .dataframe tbody tr th:only-of-type {\n",
       "        vertical-align: middle;\n",
       "    }\n",
       "\n",
       "    .dataframe tbody tr th {\n",
       "        vertical-align: top;\n",
       "    }\n",
       "\n",
       "    .dataframe thead th {\n",
       "        text-align: right;\n",
       "    }\n",
       "</style>\n",
       "<table border=\"1\" class=\"dataframe\">\n",
       "  <thead>\n",
       "    <tr style=\"text-align: right;\">\n",
       "      <th></th>\n",
       "      <th>Predicted</th>\n",
       "      <th>True</th>\n",
       "      <th>Probability</th>\n",
       "    </tr>\n",
       "  </thead>\n",
       "  <tbody>\n",
       "    <tr>\n",
       "      <th>46341</th>\n",
       "      <td>Top</td>\n",
       "      <td>Dress</td>\n",
       "      <td>0.479942</td>\n",
       "    </tr>\n",
       "    <tr>\n",
       "      <th>31309</th>\n",
       "      <td>Dress</td>\n",
       "      <td>Trouser</td>\n",
       "      <td>0.487622</td>\n",
       "    </tr>\n",
       "    <tr>\n",
       "      <th>34381</th>\n",
       "      <td>Dress</td>\n",
       "      <td>Top</td>\n",
       "      <td>0.811968</td>\n",
       "    </tr>\n",
       "    <tr>\n",
       "      <th>55239</th>\n",
       "      <td>Dress</td>\n",
       "      <td>Top</td>\n",
       "      <td>0.481748</td>\n",
       "    </tr>\n",
       "    <tr>\n",
       "      <th>15752</th>\n",
       "      <td>Top</td>\n",
       "      <td>Bag</td>\n",
       "      <td>0.902969</td>\n",
       "    </tr>\n",
       "  </tbody>\n",
       "</table>\n",
       "</div>"
      ],
      "text/plain": [
       "      Predicted     True  Probability\n",
       "46341       Top    Dress     0.479942\n",
       "31309     Dress  Trouser     0.487622\n",
       "34381     Dress      Top     0.811968\n",
       "55239     Dress      Top     0.481748\n",
       "15752       Top      Bag     0.902969"
      ]
     },
     "execution_count": 213,
     "metadata": {},
     "output_type": "execute_result"
    }
   ],
   "source": [
    "incorrect_predictions.sample(5)"
   ]
  },
  {
   "attachments": {},
   "cell_type": "markdown",
   "metadata": {},
   "source": [
    "Let's see the images of what the computer got wrong. I think we will see that even for a human, it would be hard to differentiate."
   ]
  },
  {
   "cell_type": "code",
   "execution_count": 215,
   "metadata": {},
   "outputs": [
    {
     "data": {
      "image/png": "[encoded data removed]",
      "text/plain": [
       "<Figure size 640x480 with 1 Axes>"
      ]
     },
     "metadata": {},
     "output_type": "display_data"
    },
    {
     "data": {
      "image/png": "[encoded data removed]",
      "text/plain": [
       "<Figure size 640x480 with 1 Axes>"
      ]
     },
     "metadata": {},
     "output_type": "display_data"
    },
    {
     "data": {
      "image/png": "[encoded data removed]",
      "text/plain": [
       "<Figure size 640x480 with 1 Axes>"
      ]
     },
     "metadata": {},
     "output_type": "display_data"
    },
    {
     "data": {
      "image/png": "[encoded data removed]",
      "text/plain": [
       "<Figure size 640x480 with 1 Axes>"
      ]
     },
     "metadata": {},
     "output_type": "display_data"
    },
    {
     "data": {
      "image/png": "[encoded data removed]",
      "text/plain": [
       "<Figure size 640x480 with 1 Axes>"
      ]
     },
     "metadata": {},
     "output_type": "display_data"
    }
   ],
   "source": [
    "image_maker(46341, df)\n",
    "image_maker(31309, df)\n",
    "image_maker(34381, df)\n",
    "image_maker(55239, df)\n",
    "image_maker(15752, df)"
   ]
  },
  {
   "cell_type": "code",
   "execution_count": null,
   "metadata": {},
   "outputs": [],
   "source": []
  }
 ],
 "metadata": {
  "kernelspec": {
   "display_name": "Python 3",
   "language": "python",
   "name": "python3"
  },
  "language_info": {
   "codemirror_mode": {
    "name": "ipython",
    "version": 3
   },
   "file_extension": ".py",
   "mimetype": "text/x-python",
   "name": "python",
   "nbconvert_exporter": "python",
   "pygments_lexer": "ipython3",
   "version": "3.11.3"
  },
  "orig_nbformat": 4
 },
 "nbformat": 4,
 "nbformat_minor": 2
}
